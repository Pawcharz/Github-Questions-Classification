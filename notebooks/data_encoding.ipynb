{
 "cells": [
  {
   "cell_type": "markdown",
   "metadata": {},
   "source": [
    "## Loading Libraries"
   ]
  },
  {
   "cell_type": "code",
   "execution_count": null,
   "metadata": {},
   "outputs": [],
   "source": [
    "import pandas as pd\n",
    "import numpy as np\n",
    "import torch"
   ]
  },
  {
   "cell_type": "markdown",
   "metadata": {},
   "source": [
    "## Loading Dataset"
   ]
  },
  {
   "cell_type": "code",
   "execution_count": null,
   "metadata": {},
   "outputs": [],
   "source": [
    "df = pd.read_csv('../data/processed/train_sample_processed.csv')"
   ]
  },
  {
   "cell_type": "code",
   "execution_count": null,
   "metadata": {},
   "outputs": [],
   "source": [
    "df.head(10)"
   ]
  },
  {
   "cell_type": "markdown",
   "metadata": {},
   "source": [
    "## Transforming Data - Encoding Tags"
   ]
  },
  {
   "cell_type": "code",
   "execution_count": null,
   "metadata": {},
   "outputs": [],
   "source": [
    "def encodeTags(dataframe):\n",
    "  tags_columns = ['Tag1', 'Tag2', 'Tag3', 'Tag4', 'Tag5']\n",
    "  encoded = pd.get_dummies(dataframe['Tag1'], columns=['Tag1'], prefix='tag_')\n",
    "\n",
    "  for i in range(1, 4):\n",
    "    \n",
    "    col_name = tags_columns[i]\n",
    "    dummies = pd.get_dummies(dataframe[col_name], columns=[col_name], prefix='tag_')\n",
    "    encoded |= dummies\n",
    "    # print(i, dummies['tag__86.0'], encoded['tag__86.0'])\n",
    "    \n",
    "  return encoded"
   ]
  },
  {
   "cell_type": "code",
   "execution_count": null,
   "metadata": {},
   "outputs": [],
   "source": [
    "encoded = encodeTags(df)\n",
    "\n",
    "# Check if there are on NaNs left\n",
    "print(encoded.isna().sum().values)"
   ]
  },
  {
   "cell_type": "markdown",
   "metadata": {},
   "source": [
    "## Creating PyTorch Dataset"
   ]
  },
  {
   "cell_type": "code",
   "execution_count": null,
   "metadata": {},
   "outputs": [],
   "source": [
    "from torch.utils.data.dataset import Dataset\n",
    "\n",
    "class SingleExample:\n",
    "  def __init__(self, tags_onehot, unrecognized_tags_count, reputation, undeleted_answers, user_life_days, title, text_content):\n",
    "    self.tags_onehot = tags_onehot\n",
    "    self.unrecognized_tags_count = unrecognized_tags_count\n",
    "    self.reputation = reputation\n",
    "    self.undeleted_answers = undeleted_answers\n",
    "    self.user_life_days = user_life_days\n",
    "    self.title = title\n",
    "    self.text_content = text_content\n",
    "    \n",
    "\n",
    "class CustomDataset(Dataset):\n",
    "  def __init__(self, df):\n",
    "    self.tags_onehot = []\n",
    "    self.unrecognized_tags_count = []\n",
    "    self.reputation = []\n",
    "    self.undeleted_answers = []\n",
    "    self.user_life_days = []\n",
    "    \n",
    "    self.title = []\n",
    "    self.text_content = []\n",
    "\n",
    "    # Encoding tags\n",
    "    tags_onehot_pd = encodeTags(df)\n",
    "    tags_onehot = torch.from_numpy(tags_onehot_pd.to_numpy())\n",
    "    self.tags_onehot = tags_onehot\n",
    "    self.unrecognized_tags_count = torch.from_numpy(df['UnrecognizedTags'].to_numpy())\n",
    "    \n",
    "    # Saving the rest of the numerical data\n",
    "    self.reputation = torch.from_numpy(df['ReputationAtPostCreation'].to_numpy())\n",
    "    self.undeleted_answers = torch.from_numpy(df['OwnerUndeletedAnswerCountAtPostTime'].to_numpy())\n",
    "    self.user_life_days = torch.from_numpy(df['DaysTillPosting'].to_numpy())\n",
    "    \n",
    "    # Saving Text\n",
    "    self.title = df['Title']\n",
    "    self.text_content = df['BodyMarkdown']\n",
    "    \n",
    "  def __len__(self):\n",
    "    return len(self.tags_onehot)\n",
    "\n",
    "  def __getitem__(self, i):\n",
    "    return SingleExample(\n",
    "      self.tags_onehot[i],\n",
    "      self.unrecognized_tags_count[i],\n",
    "      self.reputation[i],\n",
    "      self.undeleted_answers[i],\n",
    "      self.user_life_days[i],\n",
    "      self.title[i],\n",
    "      self.text_content[i]\n",
    "    )"
   ]
  },
  {
   "cell_type": "code",
   "execution_count": null,
   "metadata": {},
   "outputs": [],
   "source": [
    "# Create the train dataset\n",
    "train_dataset = CustomDataset(df)\n",
    "train_dataset"
   ]
  }
 ],
 "metadata": {
  "kernelspec": {
   "display_name": "env_torch",
   "language": "python",
   "name": "python3"
  },
  "language_info": {
   "codemirror_mode": {
    "name": "ipython",
    "version": 3
   },
   "file_extension": ".py",
   "mimetype": "text/x-python",
   "name": "python",
   "nbconvert_exporter": "python",
   "pygments_lexer": "ipython3",
   "version": "3.10.13"
  }
 },
 "nbformat": 4,
 "nbformat_minor": 2
}
