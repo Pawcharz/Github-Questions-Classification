{
 "cells": [
  {
   "cell_type": "markdown",
   "metadata": {},
   "source": [
    "## Loading Libraries"
   ]
  },
  {
   "cell_type": "code",
   "execution_count": 1,
   "metadata": {},
   "outputs": [
    {
     "name": "stderr",
     "output_type": "stream",
     "text": [
      "c:\\Users\\Pawel\\anaconda3\\envs\\env_torch\\lib\\site-packages\\tqdm\\auto.py:21: TqdmWarning: IProgress not found. Please update jupyter and ipywidgets. See https://ipywidgets.readthedocs.io/en/stable/user_install.html\n",
      "  from .autonotebook import tqdm as notebook_tqdm\n"
     ]
    }
   ],
   "source": [
    "import pandas as pd\n",
    "import numpy as np\n",
    "import torch\n",
    "import evaluate"
   ]
  },
  {
   "cell_type": "code",
   "execution_count": 2,
   "metadata": {},
   "outputs": [],
   "source": [
    "device = torch.device('cuda')"
   ]
  },
  {
   "cell_type": "markdown",
   "metadata": {},
   "source": [
    "## Loading Dataset"
   ]
  },
  {
   "cell_type": "code",
   "execution_count": 3,
   "metadata": {},
   "outputs": [],
   "source": [
    "df = pd.read_csv('../data/processed/train_sample_processed.csv')"
   ]
  },
  {
   "cell_type": "code",
   "execution_count": 4,
   "metadata": {},
   "outputs": [],
   "source": [
    "statuses = np.unique(df['OpenStatus'].values)\n",
    "\n",
    "id2label = {idx: label for idx, label in enumerate(statuses)}\n",
    "label2id = {label: idx for idx, label in enumerate(statuses)}"
   ]
  },
  {
   "cell_type": "code",
   "execution_count": 5,
   "metadata": {},
   "outputs": [],
   "source": [
    "\n",
    "from custom_dataset import GithubDataset\n",
    "from torch.utils.data import random_split\n",
    "from datasets import Dataset\n",
    "\n",
    "# Create the pytorch dataset\n",
    "full_dataset = GithubDataset(df)"
   ]
  },
  {
   "cell_type": "code",
   "execution_count": 6,
   "metadata": {},
   "outputs": [],
   "source": [
    "train_dataset, validation_dataset, test_dataset = random_split(full_dataset, [0.7, 0.25, 0.05])\n",
    "\n",
    "train_dataset = Dataset.from_dict(train_dataset[:])\n",
    "validation_dataset = Dataset.from_dict(validation_dataset[:])\n",
    "test_dataset = Dataset.from_dict(test_dataset[:])"
   ]
  },
  {
   "cell_type": "code",
   "execution_count": 7,
   "metadata": {},
   "outputs": [],
   "source": [
    "# renaming_dict = {\"text_content\": \"text\", \"status\": \"label\"}\n",
    "renaming_dict = {\"status\": \"labels\"}\n",
    "\n",
    "train_dataset = train_dataset.rename_columns(renaming_dict)\n",
    "validation_dataset = validation_dataset.rename_columns(renaming_dict)\n",
    "test_dataset = test_dataset.rename_columns(renaming_dict)"
   ]
  },
  {
   "cell_type": "markdown",
   "metadata": {},
   "source": [
    "### Tokenizing Data"
   ]
  },
  {
   "cell_type": "code",
   "execution_count": 8,
   "metadata": {},
   "outputs": [],
   "source": [
    "from transformers import AutoTokenizer\n",
    "\n",
    "# content_tokenizer = AutoTokenizer.from_pretrained(\"distilbert-base-uncased\")\n",
    "# titles_tokenizer = AutoTokenizer.from_pretrained(\"distilbert-base-uncased\")"
   ]
  },
  {
   "cell_type": "code",
   "execution_count": 9,
   "metadata": {},
   "outputs": [],
   "source": [
    "# import spacy\n",
    "# nlp = spacy.load(\"en_core_web_sm\")\n",
    "# import en_core_web_sm\n",
    "# tokenizer = en_core_web_sm.load()\n",
    "\n",
    "tokenizer = AutoTokenizer.from_pretrained(\"distilbert-base-uncased\")"
   ]
  },
  {
   "cell_type": "code",
   "execution_count": 10,
   "metadata": {},
   "outputs": [
    {
     "data": {
      "text/plain": [
       "Dataset({\n",
       "    features: ['tags_onehot', 'unrecognized_tags_count', 'reputation', 'undeleted_answers', 'user_life_days', 'title', 'text_content', 'labels'],\n",
       "    num_rows: 98191\n",
       "})"
      ]
     },
     "execution_count": 10,
     "metadata": {},
     "output_type": "execute_result"
    }
   ],
   "source": [
    "train_dataset"
   ]
  },
  {
   "cell_type": "code",
   "execution_count": 11,
   "metadata": {},
   "outputs": [
    {
     "data": {
      "text/plain": [
       "[0, 2, 0, 3, 2, 3, 0, 3, 2, 1]"
      ]
     },
     "execution_count": 11,
     "metadata": {},
     "output_type": "execute_result"
    }
   ],
   "source": [
    "label2id\n",
    "[label2id[label] for label in train_dataset['labels'][:10]]"
   ]
  },
  {
   "cell_type": "code",
   "execution_count": 12,
   "metadata": {},
   "outputs": [],
   "source": [
    "CONTENT_MAX_TEXT_CONTENT = 128\n",
    "TITLE_MAX_TEXT_CONTENT = 32\n",
    "\n",
    "def tokenize_func(batch):\n",
    "  tokenized_batch = dict()\n",
    "  \n",
    "  tokenized_temp = tokenizer(batch['text_content'], padding=True, truncation=True, max_length=CONTENT_MAX_TEXT_CONTENT, return_tensors=\"pt\")\n",
    "  tokenized_batch['content_input_ids'] = tokenized_temp['input_ids']\n",
    "  tokenized_batch['content_attention_mask'] = tokenized_temp['attention_mask']\n",
    "  \n",
    "  tokenized_temp = tokenizer(batch['title'], padding=True, truncation=True, max_length=TITLE_MAX_TEXT_CONTENT, return_tensors=\"pt\")\n",
    "  tokenized_batch['title_input_ids'] = tokenized_temp['input_ids']\n",
    "  tokenized_batch['title_attention_mask'] = tokenized_temp['attention_mask']\n",
    "  \n",
    "  return tokenized_batch"
   ]
  },
  {
   "cell_type": "code",
   "execution_count": 13,
   "metadata": {},
   "outputs": [
    {
     "name": "stderr",
     "output_type": "stream",
     "text": [
      "Map: 100%|██████████| 98191/98191 [00:21<00:00, 4572.86 examples/s]\n"
     ]
    }
   ],
   "source": [
    "tokenized_train_dataset = train_dataset.map(tokenize_func, batched=True)"
   ]
  },
  {
   "cell_type": "code",
   "execution_count": 14,
   "metadata": {},
   "outputs": [
    {
     "name": "stderr",
     "output_type": "stream",
     "text": [
      "Map: 100%|██████████| 98191/98191 [00:19<00:00, 4979.31 examples/s]\n",
      "Map: 100%|██████████| 35068/35068 [00:06<00:00, 5228.39 examples/s]\n",
      "Map: 100%|██████████| 7013/7013 [00:01<00:00, 4897.40 examples/s]\n"
     ]
    }
   ],
   "source": [
    "tokenized_train_dataset = train_dataset.map(tokenize_func, batched=True)\n",
    "tokenized_validation_dataset = validation_dataset.map(tokenize_func, batched=True)\n",
    "tokenized_test_dataset = test_dataset.map(tokenize_func, batched=True)"
   ]
  },
  {
   "cell_type": "code",
   "execution_count": 15,
   "metadata": {},
   "outputs": [
    {
     "data": {
      "text/plain": [
       "31"
      ]
     },
     "execution_count": 15,
     "metadata": {},
     "output_type": "execute_result"
    }
   ],
   "source": [
    "len(tokenized_train_dataset['title_input_ids'][11])\n"
   ]
  },
  {
   "cell_type": "code",
   "execution_count": 16,
   "metadata": {},
   "outputs": [
    {
     "data": {
      "text/plain": [
       "Dataset({\n",
       "    features: ['tags_onehot', 'unrecognized_tags_count', 'reputation', 'undeleted_answers', 'user_life_days', 'title', 'text_content', 'labels', 'content_input_ids', 'content_attention_mask', 'title_input_ids', 'title_attention_mask'],\n",
       "    num_rows: 7013\n",
       "})"
      ]
     },
     "execution_count": 16,
     "metadata": {},
     "output_type": "execute_result"
    }
   ],
   "source": [
    "tokenized_test_dataset\n",
    "# tokenized_test_dataset['user_life_days']"
   ]
  },
  {
   "cell_type": "code",
   "execution_count": 17,
   "metadata": {},
   "outputs": [],
   "source": [
    "columns_to_remove = [\n",
    "  'tags_onehot',\n",
    "  'unrecognized_tags_count',\n",
    "  # 'reputation',\n",
    "  # 'undeleted_answers',\n",
    "  # 'user_life_days',\n",
    "  'title',\n",
    "  'text_content',\n",
    "]\n",
    "\n",
    "tokenized_train_dataset = tokenized_train_dataset.remove_columns(columns_to_remove)\n",
    "tokenized_validation_dataset = tokenized_validation_dataset.remove_columns(columns_to_remove)\n",
    "tokenized_test_dataset = tokenized_test_dataset.remove_columns(columns_to_remove)"
   ]
  },
  {
   "cell_type": "markdown",
   "metadata": {},
   "source": [
    "#### COMMENT - IDEAS"
   ]
  },
  {
   "cell_type": "markdown",
   "metadata": {},
   "source": [
    "We probably should:\n",
    "- retrain the whole model (probably smaller) with\n",
    "- better tokenizer - built up from the ground including all the names of the specific tech (languages, frameworks, IDEs, etc.)"
   ]
  },
  {
   "cell_type": "markdown",
   "metadata": {},
   "source": [
    "## Model - Custom"
   ]
  },
  {
   "cell_type": "code",
   "execution_count": 18,
   "metadata": {},
   "outputs": [],
   "source": [
    "from custom_model import AutoCompositeModel\n",
    "\n",
    "model = AutoCompositeModel(device).to(device)"
   ]
  },
  {
   "cell_type": "markdown",
   "metadata": {},
   "source": [
    "## Training Setup"
   ]
  },
  {
   "cell_type": "markdown",
   "metadata": {},
   "source": [
    "### Data Loaders"
   ]
  },
  {
   "cell_type": "code",
   "execution_count": 19,
   "metadata": {},
   "outputs": [],
   "source": [
    "important_features = [\n",
    "  'content_input_ids',\n",
    "  'title_input_ids',\n",
    "  'labels',\n",
    "]\n",
    "\n",
    "def collate_func(batch):\n",
    "  # test = 0\n",
    "  # print(batch)\n",
    "  \n",
    "  # all = batch[:]\n",
    "  # test = [all[feature] for feature in important_features]\n",
    "  print(batch[0]['title_input_ids'])\n",
    "  print(batch[1]['title_input_ids'])\n",
    "  \n",
    "  print(len(batch[0]['title_input_ids']))\n",
    "  print(len(batch[1]['title_input_ids']))\n",
    "  return batch"
   ]
  },
  {
   "cell_type": "code",
   "execution_count": 20,
   "metadata": {},
   "outputs": [],
   "source": [
    "from torch.utils.data import DataLoader\n",
    "training_loader = DataLoader(tokenized_train_dataset, batch_size=16, shuffle=True, collate_fn=collate_func)\n",
    "validation_loader = DataLoader(tokenized_validation_dataset, batch_size=16, shuffle=True)\n",
    "test_loader = DataLoader(tokenized_test_dataset, batch_size=16, shuffle=True)"
   ]
  },
  {
   "cell_type": "code",
   "execution_count": 21,
   "metadata": {},
   "outputs": [
    {
     "name": "stdout",
     "output_type": "stream",
     "text": [
      "[101, 2129, 2079, 1045, 4372, 16044, 1998, 21933, 3207, 1037, 2918, 21084, 5164, 1029, 102, 0, 0, 0, 0, 0, 0, 0, 0, 0, 0, 0, 0, 0, 0, 0, 0, 0]\n",
      "[101, 2129, 2000, 3573, 1996, 2765, 1997, 1996, 5227, 1999, 2795, 102, 0, 0, 0, 0, 0, 0, 0, 0, 0, 0, 0, 0, 0, 0, 0, 0, 0, 0, 0, 0]\n",
      "32\n",
      "32\n"
     ]
    }
   ],
   "source": [
    "for i, data in enumerate(training_loader):\n",
    "  if i >= 0:\n",
    "    break\n",
    "    \n",
    "  # print(data[1]['title_input_ids'])\n",
    "  # print(len(data[1]['title_input_ids']))"
   ]
  },
  {
   "cell_type": "code",
   "execution_count": 22,
   "metadata": {},
   "outputs": [
    {
     "name": "stdout",
     "output_type": "stream",
     "text": [
      "[101, 2358, 2094, 1024, 1024, 4066, 2006, 2019, 2358, 2094, 1024, 1024, 9207, 22963, 2021, 2196, 20736, 102, 0, 0, 0, 0, 0, 0, 0, 0, 0, 0, 0, 0, 0]\n",
      "31\n"
     ]
    }
   ],
   "source": [
    "print(tokenized_train_dataset['title_input_ids'][0])\n",
    "print(len(tokenized_train_dataset['title_input_ids'][0]))"
   ]
  },
  {
   "cell_type": "code",
   "execution_count": 23,
   "metadata": {},
   "outputs": [],
   "source": [
    "# for i, data in enumerate(training_loader):\n",
    "#   if i < 1:\n",
    "#     print(data)"
   ]
  },
  {
   "cell_type": "markdown",
   "metadata": {},
   "source": [
    "### Loss Function"
   ]
  },
  {
   "cell_type": "code",
   "execution_count": 24,
   "metadata": {},
   "outputs": [],
   "source": [
    "loss_fn = torch.nn.CrossEntropyLoss()"
   ]
  },
  {
   "cell_type": "markdown",
   "metadata": {},
   "source": [
    "### Optimizer"
   ]
  },
  {
   "cell_type": "code",
   "execution_count": 25,
   "metadata": {},
   "outputs": [],
   "source": [
    "# Optimizers specified in the torch.optim package\n",
    "# optimizer = torch.optim.SGD(model.parameters(), lr=0.001, momentum=0.9)\n",
    "\n",
    "# optimizer = torch.optim.Adam(model.parameters(), lr=1e-4, weight_decay=1e-5)\n",
    "\n",
    "optimizer = torch.optim.SGD(model.parameters(), lr=1e-4, weight_decay=1e-5)\n",
    "# optimizer = torch.optim.SGD(model.parameters(), lr=1e-4, weight_decay=1e-5, momentum=0.8)"
   ]
  },
  {
   "cell_type": "code",
   "execution_count": 26,
   "metadata": {},
   "outputs": [],
   "source": [
    "from torchmetrics import Accuracy\n",
    "\n",
    "accuracy_metric = Accuracy(task='multiclass', num_classes=5).to(device)"
   ]
  },
  {
   "cell_type": "markdown",
   "metadata": {},
   "source": [
    "### Trainer Setup"
   ]
  },
  {
   "cell_type": "code",
   "execution_count": 27,
   "metadata": {},
   "outputs": [],
   "source": [
    "from training_own import Trainer, TrainerConfiguration, get_model_params\n",
    "\n",
    "config = TrainerConfiguration(\n",
    "  training_loader=training_loader,\n",
    "  validation_loader=validation_loader,\n",
    "  optimizer=optimizer,\n",
    "  loss_fn=loss_fn,\n",
    "  accuracy_metric=accuracy_metric,\n",
    "  device=device\n",
    ")"
   ]
  },
  {
   "cell_type": "code",
   "execution_count": 28,
   "metadata": {},
   "outputs": [
    {
     "data": {
      "text/plain": [
       "692933"
      ]
     },
     "execution_count": 28,
     "metadata": {},
     "output_type": "execute_result"
    }
   ],
   "source": [
    "get_model_params(model)"
   ]
  },
  {
   "cell_type": "code",
   "execution_count": 29,
   "metadata": {},
   "outputs": [],
   "source": [
    "trainer = Trainer(model=model, trainer_configuration=config, input_columns=['content_input_ids', 'title_input_ids', 'reputation', 'undeleted_answers', 'user_life_days'], output_column='labels')"
   ]
  },
  {
   "cell_type": "code",
   "execution_count": 30,
   "metadata": {},
   "outputs": [
    {
     "data": {
      "text/plain": [
       "6137"
      ]
     },
     "execution_count": 30,
     "metadata": {},
     "output_type": "execute_result"
    }
   ],
   "source": [
    "len(training_loader)"
   ]
  },
  {
   "cell_type": "code",
   "execution_count": 31,
   "metadata": {},
   "outputs": [
    {
     "name": "stdout",
     "output_type": "stream",
     "text": [
      "EPOCH 1:\n",
      "[101, 2129, 2000, 4060, 1037, 7809, 1029, 102, 0, 0, 0, 0, 0, 0, 0, 0, 0, 0, 0, 0, 0, 0, 0, 0, 0, 0, 0, 0, 0, 0, 0, 0]\n",
      "[101, 11924, 9130, 1012, 1012, 2129, 2000, 2131, 3229, 18715, 2368, 102, 0, 0, 0, 0, 0, 0, 0, 0, 0, 0, 0, 0, 0, 0, 0, 0, 0, 0, 0, 0]\n",
      "32\n",
      "32\n",
      "column_name content_input_ids\n",
      "inputs[column_name] [tensor([  101,  1999,  2023,  2154,  1998,  2287,  1010,  2007,  1037,  2047,\n",
      "        16839,  4160,  2140, 17881, 20095,  2039,  2296,  5353,  1012,  1012,\n",
      "         2024,  2045,  2151,  2204,  1998,  2039,  1011,  2000,  1011,  3058,\n",
      "         4219,  2006,  2129,  2000,  4060,  1037,  7809,  1006,  1055,  1007,\n",
      "         2008,  2097,  4848,  2115,  4773,  4646,  3791,  1029,   102,     0,\n",
      "            0,     0,     0,     0,     0,     0,     0,     0,     0,     0,\n",
      "            0,     0,     0,     0,     0,     0,     0,     0,     0,     0,\n",
      "            0,     0,     0,     0,     0,     0,     0,     0,     0,     0,\n",
      "            0,     0,     0,     0,     0,     0,     0,     0,     0,     0,\n",
      "            0,     0,     0,     0,     0,     0,     0,     0,     0,     0,\n",
      "            0,     0,     0,     0,     0,     0,     0,     0,     0,     0,\n",
      "            0,     0,     0,     0,     0,     0,     0,     0,     0,     0,\n",
      "            0,     0,     0,     0,     0,     0,     0,     0],\n",
      "       device='cuda:0'), tensor([  101,  7632,  1045,  2572,  2667,  2000,  5587,  9130,  7532,  2000,\n",
      "         2026, 11924, 10439,  1010,  1045,  2106,  3266,  2000,  2695,  2006,\n",
      "         2026,  2813,  2007, 10439,  2021,  2043,  1045, 22817, 11924,  9130,\n",
      "        10439,  1998, 26618,  1999,  2006,  2009,  2021,  2085,  1045,  2064,\n",
      "         2102,  2695,  2006,  2026,  2813,  1012,  1045,  2572,  2893,  2023,\n",
      "         7561,  1024,  1063,  1000,  7561,  1000,  1024,  1063,  1000,  2828,\n",
      "         1000,  1024,  1000,  1051,  4887, 10760,  2595, 24422,  1000,  1010,\n",
      "         1000,  4471,  1000,  1024,  1000,  2019,  3161,  3229, 19204,  2442,\n",
      "         2022,  2109,  2000, 23032,  2592,  2055,  1996,  2783,  5310,  1012,\n",
      "         1000,  1065,  1065,  1008,  1008,  3642,  1024,  1008,  1008,  2270,\n",
      "         2465,  9130, 21197,  2378,  8908,  4023,  1063,  2797, 10763,  2345,\n",
      "         5164, 10439,  1035, 17928,  1035,  8909,  1027,  1000,  5511,  2692,\n",
      "        17914,  2620,  2683,  2683,  2620,  1011,  2026,   102],\n",
      "       device='cuda:0'), tensor([  101,  1045,  1005,  1049,  2667,  2041,  3358,  5178,  2004,  1037,\n",
      "        18750,  8909,  2063,  1012,  2054,  2024,  1996,  2087,  6179,  2838,\n",
      "         1029,   102,     0,     0,     0,     0,     0,     0,     0,     0,\n",
      "            0,     0,     0,     0,     0,     0,     0,     0,     0,     0,\n",
      "            0,     0,     0,     0,     0,     0,     0,     0,     0,     0,\n",
      "            0,     0,     0,     0,     0,     0,     0,     0,     0,     0,\n",
      "            0,     0,     0,     0,     0,     0,     0,     0,     0,     0,\n",
      "            0,     0,     0,     0,     0,     0,     0,     0,     0,     0,\n",
      "            0,     0,     0,     0,     0,     0,     0,     0,     0,     0,\n",
      "            0,     0,     0,     0,     0,     0,     0,     0,     0,     0,\n",
      "            0,     0,     0,     0,     0,     0,     0,     0,     0,     0,\n",
      "            0,     0,     0,     0,     0,     0,     0,     0,     0,     0,\n",
      "            0,     0,     0,     0,     0,     0,     0,     0],\n",
      "       device='cuda:0'), tensor([  101,  2009,  3504,  2066, 15895,  8241,  2064,  2102,  3191,  1046,\n",
      "         2015, 20116,  2015, 10047,  2290, 16101,  2015,  1012,  1037,  4773,\n",
      "         3931,  4011,  2000,  2265,  2066,  2023,  1024,  8299,  1024,  1013,\n",
      "         1013,  7479,  1012,  7595, 24759, 10732,  1012,  4012,  1006,  3231,\n",
      "         8241,  1007,  2069,  3065,  1024,  8299,  1024,  1013,  1013,  7479,\n",
      "         1012,  2079,  3669,  3726,  7507,  2102,  1012,  4012,  3531, 18012,\n",
      "         1012,  4283,  1999,  5083,  1012,   102,     0,     0,     0,     0,\n",
      "            0,     0,     0,     0,     0,     0,     0,     0,     0,     0,\n",
      "            0,     0,     0,     0,     0,     0,     0,     0,     0,     0,\n",
      "            0,     0,     0,     0,     0,     0,     0,     0,     0,     0,\n",
      "            0,     0,     0,     0,     0,     0,     0,     0,     0,     0,\n",
      "            0,     0,     0,     0,     0,     0,     0,     0,     0,     0,\n",
      "            0,     0,     0,     0,     0,     0,     0,     0],\n",
      "       device='cuda:0'), tensor([  101,  1045,  2031,  2000, 11968,  3366,  2070, 11662, 11774, 24158,\n",
      "         7062,  1011,  6764,  1010,  8833,  6764,  1012,  1996,  4180,  2003,\n",
      "         2066,  2023,  1024,  1008,  1996, 13068, 11795, 14074, 29475,  1002,\n",
      "         2531,  1008,  2035,  1045,  2342,  2003,  1996,  2171,  1010,  1996,\n",
      "         2895,  1006,  2004, 19204,  1007,  1998,  1996,  3815,  1012,  1996,\n",
      "         3291,  2003,  2008,  1996,  2171,  2064,  2036,  5383,  2019,  2895,\n",
      "         1998,  7258,  1012,  2742,  1024,  1008,  1996, 13068,  2121, 29475,\n",
      "        29475,  1002,  2531,  1008,  1045,  2699,  2000,  2131,  2009,  2551,\n",
      "         2007,  2751, 19362,  8043,  1998, 14405, 20974,  1012,  2064,  1005,\n",
      "         1056,  2131,  2009,  1012,  1012,  1012,  2007, 12992,  1024,  1024,\n",
      "         4382,  2045,  1005,  1055,  2053,  3291,  1010,  2009,  2573,  1012,\n",
      "         1996,  2069,  2919,  2518,  2003,  2008,  1996,  6268,  2051,  2005,\n",
      "         2026,  2878, 11662,  1011,  8035,  2003, 12476,   102],\n",
      "       device='cuda:0'), tensor([  101,  1045,  2572,  6016,  4874,  2767,  2083, 11498,  5244,  1031,\n",
      "         1024, 29492,  1033,  1031,  1024,  2767,  1033,  1012,  1999,  2026,\n",
      "        11498,  5244,  3504,  2066,  1024,  1001,  1026,  5310,  1024,  1014,\n",
      "         2595,  2575,  2683, 17788, 17914,  2692,  1028,  1012,  2064,  1045,\n",
      "        10463,  2023,  5164,  2000,  2019,  4874,  1999,  2026, 11486,  1029,\n",
      "         2339,  1045,  2572,  6016,  2019,  4874,  2083, 11498,  5244,  1029,\n",
      "         2138,  1045,  2131,  2009,  2013,  1037,  9262, 22483,  3853,  2008,\n",
      "        27099,  2043,  1037,  2492,  1999,  2026,  4530,  7698, 12183,  2003,\n",
      "        13886,  1012,  1998,  2065,  1045,  3046,  2000,  4604,  2074,  2019,\n",
      "         8909,  1006,  2767,  1012,  8909,  1007,  1997,  2026,  4874, 15168,\n",
      "         3957,  2033,  2019,  7561,  9991,  2205,  2784,  1012,  1045,  8224,\n",
      "         2094,  2105,  2021,  2179,  2498,  2129,  2000, 10463,  5164,  2000,\n",
      "         4874,  2061,  2151,  6998,  2052,  2022,  6551,   102],\n",
      "       device='cuda:0'), tensor([  101,  2057,  2097,  2022,  9283,  7636,  1999,  1996,  2200,  2379,\n",
      "         2925,  1012,  2004,  1045,  2424,  4851,  4087,  3980,  2000,  2022,\n",
      "         1037,  3532,  7633,  1997,  3251,  1037,  2711,  2941,  4282,  2242,\n",
      "         1010,  2030,  2074,  1000,  3273,  1000,  2005,  1996,  4357,  1010,\n",
      "         1045,  2001,  3241,  1997,  9283,  1037,  3722,  3642,  3319,  2076,\n",
      "         1996,  4357,  1012,  3452,  1045,  2052,  3046,  2000,  2562,  1996,\n",
      "         6912,  2000,  1019,  1011,  2184,  2781,  4098,  1012,  4919,  1010,\n",
      "         1996,  4289,  2008,  1045,  2572,  3241,  1997,  2478,  2003,  2000,\n",
      "         2031,  2048,  2235,  4280,  1006,  1066,  2322,  3210,  3383,  1010,\n",
      "         2028,  1999,  1039,  1001,  1998,  2028,  1999,  9262, 22483,  1007,\n",
      "         2008,  2097,  2421,  1019,  1011,  2184,  1000,  3314,  1000,  1012,\n",
      "         2122,  3314,  2089,  2846,  2013,  3722,  2477,  2066,  3532,  8023,\n",
      "         3415,  1010,  2000,  4771, 27764,  4455,  2006,   102],\n",
      "       device='cuda:0'), tensor([  101,  1045,  2031,  1037, 25718,  3945,  5896,  2008, 10861,  5134,\n",
      "         1037,  2026,  2015,  4160,  2140,  7809,  1998,  2059, 11968,  8583,\n",
      "         1996,  3463,  2083, 16129,  2000,  3499, 20116,  2015, 20724,  1012,\n",
      "         1045,  2215,  1996,  5896,  2000, 12944,  2035,  1997,  1996,  3145,\n",
      "        22104,  1999,  1996,  3463,  2008,  1996,  5310,  2038,  3945,  2005,\n",
      "         1012,  2129,  2064,  1045,  2079,  2023,  2007, 25718,  1029,  2026,\n",
      "        25718,  5896,  2003,  1024,  1026,  1029, 25718,  2026,  2015,  4160,\n",
      "         2140,  1035,  7532,  1006,  1000,  2334, 15006,  2102,  1000,  1010,\n",
      "         1000,  5310, 18442,  1000,  1010,  1000, 20786,  1000,  1007,  1025,\n",
      "         2026,  2015,  4160,  2140,  1035,  7276,  1035, 16962,  1006,  1000,\n",
      "         7809,  1000,  1007,  1025,  2065,  1006,   999,  4064,  1006,  1002,\n",
      "         1035,  2131,  1031,  1005,  1053,  1005,  1033,  1007,  1007,  1063,\n",
      "         1002, 23032,  1027,  2026,  2015,  4160,  2140,   102],\n",
      "       device='cuda:0'), tensor([  101,  1045,  1005,  2310,  2042, 12697,  1037, 10975,  8490, 12644,\n",
      "         4730,  2653,  2005,  1019,  2030,  2061,  2086,  1010,  1998,  2009,\n",
      "         2763,  2180,  1005,  1056,  2022,  2207,  2005,  2195,  2062,  2086,\n",
      "         1006,  2763,  2127,  2044,  2026,  2783,  1998,  2279, 22752,  2015,\n",
      "         9510,  2030,  8246,  1007,  1012,  1999,  1996,  2812,  2051,  1010,\n",
      "         1045,  2031,  2048,  3980,  2008,  2089,  6011,  5875,  1024,  1015,\n",
      "         1007,  2054, 12332,  1997,  1037,  2047,  4730,  2653,  2071,  4372,\n",
      "         4588,  2063,  2017,  3046,  2009,  2006,  2115,  2279,  2622,  1029,\n",
      "         1016,  1007,  2054, 12332,  1997,  1037,  2047,  4730,  2653,  2071,\n",
      "         4652,  2017,  2013,  2667,  2009,  2006,  1037,  2622,  1029,  1006,\n",
      "         1045,  1012,  1041,  1012,  2053,  8860,  1010,  1012,  1012,  1012,\n",
      "         1007,  2000,  2191,  2469,  2023,  3160,  3475,  1005,  1056,  1037,\n",
      "         9569,  5981,  1006,  2947,  2893,  2701,  2011,   102],\n",
      "       device='cuda:0'), tensor([  101,  2023,  3642,  3030,  2551,  2043,  2057,  9725,  2000,  1046,\n",
      "         4226,  2854,  1015,  1012,  1021,  1012,  1015,  1012,  1036,  1002,\n",
      "         1006,  1005,  2795,  1012,  2465, 18442,  1028, 19817,  1005,  1007,\n",
      "         1012,  3091,  1036,  2003,  4192,  1014,  1012,  1008,  1008,  1012,\n",
      "         5658,  3642,  1006, 15389,  2015,  1046,  4226,  2854,  3642,  1007,\n",
      "         1024,  1008,  1008,  2270, 10763,  2146,  2131, 10880, 10524,  3597,\n",
      "        16671,  3762,  6169, 11020, 27102,  1006,  1045,  8545,  2497, 23663,\n",
      "         2099,  4062,  1010,  5164, 20116, 11020, 27102,  1010, 20014, 15945,\n",
      "        10524,  3597, 16671,  1007,  1063,  1045,  3900, 12044, 23235, 10288,\n",
      "         8586, 16161,  2099,  1046,  2015,  1027,  4062,  2004,  1045,  3900,\n",
      "        12044, 23235, 10288,  8586, 16161,  2099,  1025,  2146,  4175,  1027,\n",
      "         1006,  2146,  1007,  1046,  2015,  1012, 15389, 22483,  1006,  1000,\n",
      "         2709,  1002,  1006,  1005,  2795,  1012,  1000,   102],\n",
      "       device='cuda:0'), tensor([  101,  1045,  2424,  2023,  2200,  5875,  1998,  1045,  2428,  2359,\n",
      "         2000,  2113,  2054,  2974,  2023,  4037,  2003,  2478,  2000,  3573,\n",
      "         2107,  2312,  2951,  1998,  6575,  1996,  3141,  3980,  1998, 22073,\n",
      "         1999,  2053,  2051,  1012,  1012,  1012,   102,     0,     0,     0,\n",
      "            0,     0,     0,     0,     0,     0,     0,     0,     0,     0,\n",
      "            0,     0,     0,     0,     0,     0,     0,     0,     0,     0,\n",
      "            0,     0,     0,     0,     0,     0,     0,     0,     0,     0,\n",
      "            0,     0,     0,     0,     0,     0,     0,     0,     0,     0,\n",
      "            0,     0,     0,     0,     0,     0,     0,     0,     0,     0,\n",
      "            0,     0,     0,     0,     0,     0,     0,     0,     0,     0,\n",
      "            0,     0,     0,     0,     0,     0,     0,     0,     0,     0,\n",
      "            0,     0,     0,     0,     0,     0,     0,     0,     0,     0,\n",
      "            0,     0,     0,     0,     0,     0,     0,     0],\n",
      "       device='cuda:0'), tensor([  101,  2129,  2515,  1037,  2502,  3145,  4031,  2066,  2216,  1997,\n",
      "         5796,  7245, 23522, 21573,  2037, 17394,  1013,  5198,  2011,  2593,\n",
      "         1996,  2193,  1997,  2049,  8272,  2335,  2030,  1996,  2193,  1997,\n",
      "         2049,  5361,  6681,  1029,  2005,  2028,  4007,  3729,  1010,  1996,\n",
      "         4031,  2024,  5361,  1998,  2224,  3085,  3081,  2005,  2742,  1017,\n",
      "        15943,  1010,  2023,  2003,  8878,  3081,  3024,  6309,  1012,  2339,\n",
      "         2064,  1005,  1056,  1045,  5310,  1996,  2168,  3145,  2006,  1017,\n",
      "         6681,  2008,  2024,  2025,  6970, 24230,  1029,  2005,  2028,  4007,\n",
      "         3729,  1010,  1996,  4031,  2003,  2823, 16500,  3085,  2069,  2006,\n",
      "         2028,  3698,  1006,  2053,  3145,  4431,  1007,  1010,  2009,  2097,\n",
      "         4653,  2019,  7561,  4471,  2065,  1045,  3046,  2000, 16500,  2009,\n",
      "         2006,  2178,  1012,  1006,  1996,  3729,  3475,  1005,  1056,  2128,\n",
      "        13088,  6590,  3468,  1000, 23969,  2243,  1000,   102],\n",
      "       device='cuda:0'), tensor([  101,  1045,  2052,  2066,  2000,  2265,  2951,  2013,  1037,  2026,\n",
      "         2015,  4160,  2140,  2004,  1037,  2862,  3193,  1997,  4822,  1006,\n",
      "         3205,  2011,  2171,  1007,  1998,  2043,  1045, 11562,  2006,  1037,\n",
      "         2862,  8875,  1045,  2323,  2131,  2062, 18558,  2055,  2008,  2436,\n",
      "         1012,  2085,  1996,  2862,  2987,  1005,  1056,  3711,  1012,  1045,\n",
      "         1005,  1049,  2047,  1999, 11924,  1006,  1045,  2707,  2048,  3134,\n",
      "         3283,  1007,  2061,  1045,  2064,  1005,  1056,  3305,  2129,  2000,\n",
      "         8081,  1012,  1012,  1012,  2064,  8307,  2100,  2393,  2033,  3531,\n",
      "         1029,  2270,  2465,  2436,  8908,  2862, 18908,  7730, 22164,  2006,\n",
      "         4221, 12458, 25230,  9863, 24454,  1063,  2862,  8584,  2436,  9863,\n",
      "         1025, 20407, 25379,  2003,  1027, 19701,  1025,  5164,  2765,  1027,\n",
      "         1000,  1000,  1025,  5164,  2765,  2487,  1031,  1033,  1025,  1030,\n",
      "         2058, 15637,  5123, 11675,  2006, 16748,  3686,   102],\n",
      "       device='cuda:0'), tensor([  101,  1045,  1005,  1049,  2770,  7861,  6305,  2015,  2570,  1012,\n",
      "         1015,  1012,  1015,  2006,  9808,  1060,  2544,  2184,  1012,  1022,\n",
      "         1006,  3137,  7006,  1007,  1998,  1045,  2031,  2318,  4292,  2039,\n",
      "         1052, 24335,  6305,  2015,  1010,  8164,  1010,  8164, 22911,  2015,\n",
      "         2429,  2000,  1996,  8128,  3024,  2182,  1024,  8299,  1024,  1013,\n",
      "         1013,  7479,  1012, 23592, 26775,  7231,  1012,  4012,  1013,  9927,\n",
      "         1013,  2230,  1013,  5709,  1013,  2026,  1011,  7861,  6305,  2015,\n",
      "         1011, 18750,  1011,  4044,  1013,  2044,  4285,  1996,  2754,  2077,\n",
      "         8285,  1011,  3143,  1011,  5549,  1010,  1045,  2131,  1996,  2206,\n",
      "         7561,  2043,  3225,  7861,  6305,  2015,  1024,  1006,  1000,  7861,\n",
      "         6305,  2015,  1000,  1007, 10578, 12359,  1011, 21677,  1012,  1012,\n",
      "         1012,  2589, 10578,  6040,  1012,  1012,  1012,  2589,  1052, 24335,\n",
      "         6305,  2015, 10578,  8164, 22911,  2015,  1012,   102],\n",
      "       device='cuda:0'), tensor([  101,  4975,  2028,  4037,  2005,  3623,  9278,  2121,  1005,  1055,\n",
      "         4923,  3556,  1012,  9278,  2121,  2064,  3477,  9278,  2083,  2023,\n",
      "         4037,  1012, 10587,  2224,  9353,  2232,  1029,  3531,  2064,  2151,\n",
      "         2028,  2425,  2054,  2003,  3223,  2005,  6776,  8346,  1029,   102,\n",
      "            0,     0,     0,     0,     0,     0,     0,     0,     0,     0,\n",
      "            0,     0,     0,     0,     0,     0,     0,     0,     0,     0,\n",
      "            0,     0,     0,     0,     0,     0,     0,     0,     0,     0,\n",
      "            0,     0,     0,     0,     0,     0,     0,     0,     0,     0,\n",
      "            0,     0,     0,     0,     0,     0,     0,     0,     0,     0,\n",
      "            0,     0,     0,     0,     0,     0,     0,     0,     0,     0,\n",
      "            0,     0,     0,     0,     0,     0,     0,     0,     0,     0,\n",
      "            0,     0,     0,     0,     0,     0,     0,     0,     0,     0,\n",
      "            0,     0,     0,     0,     0,     0,     0,     0],\n",
      "       device='cuda:0'), tensor([  101,  1045,  2215,  2000, 21933,  3207,  1037,  9108,  2629, 23325,\n",
      "         1012,  1012,  2004,  1045,  3191,  9108,  2629,  2003, 20868,  2890,\n",
      "        14028,  7028,  1012,  2021,  1045,  2113,  2035,  2825,  3494,  1998,\n",
      "         3616,  2008,  4618,  2022,  1999,  1996,  5576,  2004,  2092,  2004,\n",
      "         2070,  6149,  3182,  1997,  1996,  3494,  1012,  1012,  1012,  1045,\n",
      "         1012,  1041,  1012,  3416,  2173,  1037,  1018,  1010,  2959,  2173,\n",
      "         1037,  1000,  2686,  1000,  4385,  1012,  1012,  2003,  1037,  2045,\n",
      "         1037,  6994,  2005, 11703,  2854, 16790,  1029,  1029,   102,     0,\n",
      "            0,     0,     0,     0,     0,     0,     0,     0,     0,     0,\n",
      "            0,     0,     0,     0,     0,     0,     0,     0,     0,     0,\n",
      "            0,     0,     0,     0,     0,     0,     0,     0,     0,     0,\n",
      "            0,     0,     0,     0,     0,     0,     0,     0,     0,     0,\n",
      "            0,     0,     0,     0,     0,     0,     0,     0],\n",
      "       device='cuda:0')]\n",
      "len(inputs[column_name]) 16\n",
      "len(inputs[column_name][0]) 128\n",
      "len(inputs[column_name][1]) 128\n",
      "column_name title_input_ids\n",
      "inputs[column_name] [tensor([ 101, 2129, 2000, 4060, 1037, 7809, 1029,  102,    0,    0,    0,    0,\n",
      "           0,    0,    0,    0,    0,    0,    0,    0,    0,    0,    0,    0,\n",
      "           0,    0,    0,    0,    0,    0,    0,    0], device='cuda:0'), tensor([  101, 11924,  9130,  1012,  1012,  2129,  2000,  2131,  3229, 18715,\n",
      "         2368,   102,     0,     0,     0,     0,     0,     0,     0,     0,\n",
      "            0,     0,     0,     0,     0,     0,     0,     0,     0,     0,\n",
      "            0,     0], device='cuda:0'), tensor([ 101, 6179, 2838, 1997, 3358, 5178, 1029,  102,    0,    0,    0,    0,\n",
      "           0,    0,    0,    0,    0,    0,    0,    0,    0,    0,    0,    0,\n",
      "           0,    0,    0,    0,    0,    0,    0,    0], device='cuda:0'), tensor([  101,  2064,  1005,  1056,  3191,  1046,  2015, 20116,  2015, 10047,\n",
      "         2290, 16101,  2015, 15895,  8241,   102,     0,     0,     0,     0,\n",
      "            0,     0,     0,     0,     0,     0,     0,     0,     0,     0,\n",
      "            0,     0], device='cuda:0'), tensor([  101,  2029, 11968,  8043,  2064, 11968,  3366, 11662,  1011,  8833,\n",
      "         6764,  1010,  2029,  2028,  2003,  1996, 25551,  1998,  2190,  1029,\n",
      "         1006,  2342,  4522,  2005,  4382,  1012,  2751, 11968,  8043,  1010,\n",
      "        14405,   102], device='cuda:0'), tensor([  101,  2129,  2000,  2131,  2019,  4874,  2013,  1037,  5164,  1011,\n",
      "        15168,   102,     0,     0,     0,     0,     0,     0,     0,     0,\n",
      "            0,     0,     0,     0,     0,     0,     0,     0,     0,     0,\n",
      "            0,     0], device='cuda:0'), tensor([ 101, 3722, 3642, 3319, 2004, 1037, 2112, 1997, 4087, 4357, 1029,  102,\n",
      "           0,    0,    0,    0,    0,    0,    0,    0,    0,    0,    0,    0,\n",
      "           0,    0,    0,    0,    0,    0,    0,    0], device='cuda:0'), tensor([  101, 20655,  3145, 22104,  1999, 25718,  3945,  5896,   102,     0,\n",
      "            0,     0,     0,     0,     0,     0,     0,     0,     0,     0,\n",
      "            0,     0,     0,     0,     0,     0,     0,     0,     0,     0,\n",
      "            0,     0], device='cuda:0'), tensor([ 101, 2054, 2052, 2191, 2017, 3046, 1006, 2030, 2025, 3046, 1007, 1037,\n",
      "        2047, 4730, 2653, 1029,  102,    0,    0,    0,    0,    0,    0,    0,\n",
      "           0,    0,    0,    0,    0,    0,    0,    0], device='cuda:0'), tensor([  101,  1046,  4226,  2854,  1015,  1012,  1021,  1012,  1015,  1024,\n",
      "         3091,  3853,  2025,  2551,  2000,  2131,  2795, 19817,  4175,   102,\n",
      "            0,     0,     0,     0,     0,     0,     0,     0,     0,     0,\n",
      "            0,     0], device='cuda:0'), tensor([  101,  2054,  2974,  2038,  2042,  2109,  2369,  2023,  2613,  2051,\n",
      "         6575,  2005, 22073,  1998,  3141,  3980,  1029,   102,     0,     0,\n",
      "            0,     0,     0,     0,     0,     0,     0,     0,     0,     0,\n",
      "            0,     0], device='cuda:0'), tensor([  101, 21573,  1996,  2193,  1997,  2051,  2019,  4646,  2003,  5361,\n",
      "         2006,  3698,   102,     0,     0,     0,     0,     0,     0,     0,\n",
      "            0,     0,     0,     0,     0,     0,     0,     0,     0,     0,\n",
      "            0,     0], device='cuda:0'), tensor([  101,  2765,  1997,  1037,  2026,  2015,  4160,  2140, 23032,  2004,\n",
      "         1037,  2862,  3193,  1999, 11924, 23389,  1046,  3385,   102,     0,\n",
      "            0,     0,     0,     0,     0,     0,     0,     0,     0,     0,\n",
      "            0,     0], device='cuda:0'), tensor([  101,  1052, 24335,  6305,  2015,  2393,  2121,  2515,  2025,  7170,\n",
      "          102,     0,     0,     0,     0,     0,     0,     0,     0,     0,\n",
      "            0,     0,     0,     0,     0,     0,     0,     0,     0,     0,\n",
      "            0,     0], device='cuda:0'), tensor([  101,  2129,  2000,  9353,  2232,  8346,  2007, 25718,   102,     0,\n",
      "            0,     0,     0,     0,     0,     0,     0,     0,     0,     0,\n",
      "            0,     0,     0,     0,     0,     0,     0,     0,     0,     0,\n",
      "            0,     0], device='cuda:0'), tensor([  101,  9108,  2629, 21933,  3207,  2007,  2124,  3091,  1998,  5300,\n",
      "          102,     0,     0,     0,     0,     0,     0,     0,     0,     0,\n",
      "            0,     0,     0,     0,     0,     0,     0,     0,     0,     0,\n",
      "            0,     0], device='cuda:0')]\n",
      "len(inputs[column_name]) 16\n",
      "len(inputs[column_name][0]) 32\n",
      "len(inputs[column_name][1]) 32\n",
      "column_name reputation\n",
      "inputs[column_name] [tensor(1027, device='cuda:0'), tensor(12, device='cuda:0'), tensor(89, device='cuda:0'), tensor(1, device='cuda:0'), tensor(1, device='cuda:0'), tensor(64, device='cuda:0'), tensor(105, device='cuda:0'), tensor(319, device='cuda:0'), tensor(31, device='cuda:0'), tensor(1362, device='cuda:0'), tensor(1, device='cuda:0'), tensor(28, device='cuda:0'), tensor(1, device='cuda:0'), tensor(18, device='cuda:0'), tensor(1, device='cuda:0'), tensor(1, device='cuda:0')]\n",
      "len(inputs[column_name]) 16\n"
     ]
    },
    {
     "ename": "TypeError",
     "evalue": "len() of a 0-d tensor",
     "output_type": "error",
     "traceback": [
      "\u001b[1;31m---------------------------------------------------------------------------\u001b[0m",
      "\u001b[1;31mTypeError\u001b[0m                                 Traceback (most recent call last)",
      "Cell \u001b[1;32mIn[31], line 1\u001b[0m\n\u001b[1;32m----> 1\u001b[0m \u001b[43mtrainer\u001b[49m\u001b[38;5;241;43m.\u001b[39;49m\u001b[43mtrain_many_epochs\u001b[49m\u001b[43m(\u001b[49m\u001b[43mepochs\u001b[49m\u001b[38;5;241;43m=\u001b[39;49m\u001b[38;5;241;43m8\u001b[39;49m\u001b[43m,\u001b[49m\u001b[43m \u001b[49m\u001b[43mlogging_frequency\u001b[49m\u001b[38;5;241;43m=\u001b[39;49m\u001b[38;5;241;43m100\u001b[39;49m\u001b[43m,\u001b[49m\u001b[43m \u001b[49m\u001b[43mevaluate_when_logging\u001b[49m\u001b[38;5;241;43m=\u001b[39;49m\u001b[38;5;28;43;01mFalse\u001b[39;49;00m\u001b[43m)\u001b[49m\n",
      "File \u001b[1;32mc:\\Users\\Pawel\\Documents\\_projects\\Github-Questions-Classification\\notebooks\\training_own.py:136\u001b[0m, in \u001b[0;36mTrainer.train_many_epochs\u001b[1;34m(self, epochs, logging_frequency, evaluate_when_logging)\u001b[0m\n\u001b[0;32m    133\u001b[0m \u001b[38;5;28mprint\u001b[39m(\u001b[38;5;124m'\u001b[39m\u001b[38;5;124mEPOCH \u001b[39m\u001b[38;5;132;01m{}\u001b[39;00m\u001b[38;5;124m:\u001b[39m\u001b[38;5;124m'\u001b[39m\u001b[38;5;241m.\u001b[39mformat(epoch_number \u001b[38;5;241m+\u001b[39m \u001b[38;5;241m1\u001b[39m))\n\u001b[0;32m    135\u001b[0m \u001b[38;5;66;03m# Make sure gradient tracking is on, and do a pass over the data\u001b[39;00m\n\u001b[1;32m--> 136\u001b[0m avg_loss, avg_acc \u001b[38;5;241m=\u001b[39m \u001b[38;5;28;43mself\u001b[39;49m\u001b[38;5;241;43m.\u001b[39;49m\u001b[43mtrain_one_epoch\u001b[49m\u001b[43m(\u001b[49m\u001b[43mlogging_frequency\u001b[49m\u001b[43m,\u001b[49m\u001b[43m \u001b[49m\u001b[43mevaluate_when_logging\u001b[49m\u001b[38;5;241;43m=\u001b[39;49m\u001b[43mevaluate_when_logging\u001b[49m\u001b[43m)\u001b[49m\n\u001b[0;32m    139\u001b[0m avg_vloss, avg_vacc \u001b[38;5;241m=\u001b[39m \u001b[38;5;28mself\u001b[39m\u001b[38;5;241m.\u001b[39mevaluate_model()\n\u001b[0;32m    140\u001b[0m \u001b[38;5;28mprint\u001b[39m(\u001b[38;5;124m'\u001b[39m\u001b[38;5;124mLOSS train \u001b[39m\u001b[38;5;132;01m{}\u001b[39;00m\u001b[38;5;124m valid \u001b[39m\u001b[38;5;132;01m{}\u001b[39;00m\u001b[38;5;124m ACCURACY train \u001b[39m\u001b[38;5;132;01m{}\u001b[39;00m\u001b[38;5;124m validation \u001b[39m\u001b[38;5;132;01m{}\u001b[39;00m\u001b[38;5;124m'\u001b[39m\u001b[38;5;241m.\u001b[39mformat(avg_loss, avg_vloss, avg_acc, avg_vacc))\n",
      "File \u001b[1;32mc:\\Users\\Pawel\\Documents\\_projects\\Github-Questions-Classification\\notebooks\\training_own.py:69\u001b[0m, in \u001b[0;36mTrainer.train_one_epoch\u001b[1;34m(self, logging_frequency, evaluate_when_logging)\u001b[0m\n\u001b[0;32m     67\u001b[0m \u001b[38;5;28mprint\u001b[39m(\u001b[38;5;124m\"\u001b[39m\u001b[38;5;124minputs[column_name]\u001b[39m\u001b[38;5;124m\"\u001b[39m, inputs[column_name])\n\u001b[0;32m     68\u001b[0m \u001b[38;5;28mprint\u001b[39m(\u001b[38;5;124m\"\u001b[39m\u001b[38;5;124mlen(inputs[column_name])\u001b[39m\u001b[38;5;124m\"\u001b[39m, \u001b[38;5;28mlen\u001b[39m(inputs[column_name]))\n\u001b[1;32m---> 69\u001b[0m \u001b[38;5;28mprint\u001b[39m(\u001b[38;5;124m\"\u001b[39m\u001b[38;5;124mlen(inputs[column_name][0])\u001b[39m\u001b[38;5;124m\"\u001b[39m, \u001b[38;5;28;43mlen\u001b[39;49m\u001b[43m(\u001b[49m\u001b[43minputs\u001b[49m\u001b[43m[\u001b[49m\u001b[43mcolumn_name\u001b[49m\u001b[43m]\u001b[49m\u001b[43m[\u001b[49m\u001b[38;5;241;43m0\u001b[39;49m\u001b[43m]\u001b[49m\u001b[43m)\u001b[49m)\n\u001b[0;32m     70\u001b[0m \u001b[38;5;28mprint\u001b[39m(\u001b[38;5;124m\"\u001b[39m\u001b[38;5;124mlen(inputs[column_name][1])\u001b[39m\u001b[38;5;124m\"\u001b[39m, \u001b[38;5;28mlen\u001b[39m(inputs[column_name][\u001b[38;5;241m1\u001b[39m]))\n\u001b[0;32m     71\u001b[0m \u001b[38;5;66;03m# inputs[column_name] = torch.tensor(inputs[column_name])\u001b[39;00m\n",
      "File \u001b[1;32mc:\\Users\\Pawel\\anaconda3\\envs\\env_torch\\lib\\site-packages\\torch\\_tensor.py:968\u001b[0m, in \u001b[0;36mTensor.__len__\u001b[1;34m(self)\u001b[0m\n\u001b[0;32m    966\u001b[0m     \u001b[38;5;28;01mreturn\u001b[39;00m handle_torch_function(Tensor\u001b[38;5;241m.\u001b[39m\u001b[38;5;21m__len__\u001b[39m, (\u001b[38;5;28mself\u001b[39m,), \u001b[38;5;28mself\u001b[39m)\n\u001b[0;32m    967\u001b[0m \u001b[38;5;28;01mif\u001b[39;00m \u001b[38;5;28mself\u001b[39m\u001b[38;5;241m.\u001b[39mdim() \u001b[38;5;241m==\u001b[39m \u001b[38;5;241m0\u001b[39m:\n\u001b[1;32m--> 968\u001b[0m     \u001b[38;5;28;01mraise\u001b[39;00m \u001b[38;5;167;01mTypeError\u001b[39;00m(\u001b[38;5;124m\"\u001b[39m\u001b[38;5;124mlen() of a 0-d tensor\u001b[39m\u001b[38;5;124m\"\u001b[39m)\n\u001b[0;32m    969\u001b[0m \u001b[38;5;28;01mif\u001b[39;00m torch\u001b[38;5;241m.\u001b[39m_C\u001b[38;5;241m.\u001b[39m_get_tracing_state():\n\u001b[0;32m    970\u001b[0m     warnings\u001b[38;5;241m.\u001b[39mwarn(\n\u001b[0;32m    971\u001b[0m         \u001b[38;5;124m\"\u001b[39m\u001b[38;5;124mUsing len to get tensor shape might cause the trace to be incorrect. \u001b[39m\u001b[38;5;124m\"\u001b[39m\n\u001b[0;32m    972\u001b[0m         \u001b[38;5;124m\"\u001b[39m\u001b[38;5;124mRecommended usage would be tensor.shape[0]. \u001b[39m\u001b[38;5;124m\"\u001b[39m\n\u001b[1;32m   (...)\u001b[0m\n\u001b[0;32m    976\u001b[0m         stacklevel\u001b[38;5;241m=\u001b[39m\u001b[38;5;241m2\u001b[39m,\n\u001b[0;32m    977\u001b[0m     )\n",
      "\u001b[1;31mTypeError\u001b[0m: len() of a 0-d tensor"
     ]
    }
   ],
   "source": [
    "trainer.train_many_epochs(epochs=8, logging_frequency=100, evaluate_when_logging=False)"
   ]
  }
 ],
 "metadata": {
  "kernelspec": {
   "display_name": "env_torch",
   "language": "python",
   "name": "python3"
  },
  "language_info": {
   "codemirror_mode": {
    "name": "ipython",
    "version": 3
   },
   "file_extension": ".py",
   "mimetype": "text/x-python",
   "name": "python",
   "nbconvert_exporter": "python",
   "pygments_lexer": "ipython3",
   "version": "3.10.13"
  }
 },
 "nbformat": 4,
 "nbformat_minor": 2
}
