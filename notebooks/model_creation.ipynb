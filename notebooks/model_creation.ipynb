{
 "cells": [
  {
   "cell_type": "markdown",
   "metadata": {},
   "source": [
    "## Loading Libraries"
   ]
  },
  {
   "cell_type": "code",
   "execution_count": 66,
   "metadata": {},
   "outputs": [],
   "source": [
    "import pandas as pd\n",
    "import numpy as np\n",
    "import torch\n",
    "import evaluate"
   ]
  },
  {
   "cell_type": "code",
   "execution_count": 67,
   "metadata": {},
   "outputs": [],
   "source": [
    "device = torch.device('cuda')"
   ]
  },
  {
   "cell_type": "markdown",
   "metadata": {},
   "source": [
    "## Loading Dataset"
   ]
  },
  {
   "cell_type": "code",
   "execution_count": 68,
   "metadata": {},
   "outputs": [],
   "source": [
    "df = pd.read_csv('../data/processed/train_sample_processed.csv')"
   ]
  },
  {
   "cell_type": "code",
   "execution_count": 69,
   "metadata": {},
   "outputs": [],
   "source": [
    "statuses = np.unique(df['OpenStatus'].values)\n",
    "\n",
    "id2label = {idx: label for idx, label in enumerate(statuses)}\n",
    "label2id = {label: idx for idx, label in enumerate(statuses)}"
   ]
  },
  {
   "cell_type": "code",
   "execution_count": 70,
   "metadata": {},
   "outputs": [],
   "source": [
    "\n",
    "from custom_dataset import GithubDataset\n",
    "from torch.utils.data import random_split\n",
    "from datasets import Dataset\n",
    "\n",
    "# Create the pytorch dataset\n",
    "full_dataset = GithubDataset(df)"
   ]
  },
  {
   "cell_type": "code",
   "execution_count": 71,
   "metadata": {},
   "outputs": [],
   "source": [
    "train_dataset, validation_dataset, test_dataset = random_split(full_dataset, [0.7, 0.25, 0.05])\n",
    "\n",
    "train_dataset = Dataset.from_dict(train_dataset[:])\n",
    "validation_dataset = Dataset.from_dict(validation_dataset[:])\n",
    "test_dataset = Dataset.from_dict(test_dataset[:])"
   ]
  },
  {
   "cell_type": "code",
   "execution_count": 72,
   "metadata": {},
   "outputs": [],
   "source": [
    "train_dataset = train_dataset.rename_columns({\"text_content\": \"text\", \"status\": \"label\"})\n",
    "validation_dataset = validation_dataset.rename_columns({\"text_content\": \"text\", \"status\": \"label\"})\n",
    "test_dataset = test_dataset.rename_columns({\"text_content\": \"text\", \"status\": \"label\"})\n",
    "\n",
    "columns_to_remove = [\n",
    "  'tags_onehot',\n",
    "  'unrecognized_tags_count',\n",
    "  'reputation',\n",
    "  'undeleted_answers',\n",
    "  'user_life_days',\n",
    "  'title'\n",
    "]\n",
    "\n",
    "train_dataset = train_dataset.remove_columns(columns_to_remove)\n",
    "validation_dataset = validation_dataset.remove_columns(columns_to_remove)\n",
    "test_dataset = test_dataset.remove_columns(columns_to_remove)"
   ]
  },
  {
   "cell_type": "markdown",
   "metadata": {},
   "source": [
    "### Tokenizing Data"
   ]
  },
  {
   "cell_type": "code",
   "execution_count": 73,
   "metadata": {},
   "outputs": [],
   "source": [
    "from transformers import AutoTokenizer\n",
    "\n",
    "tokenizer = AutoTokenizer.from_pretrained(\"distilbert-base-uncased\")"
   ]
  },
  {
   "cell_type": "code",
   "execution_count": 74,
   "metadata": {},
   "outputs": [],
   "source": [
    "MAX_TEXT_CONTENT = 128\n",
    "\n",
    "def tokenize_func(batch):\n",
    "  tokenized_batch = tokenizer(batch['text'], padding=True, truncation=True, max_length=MAX_TEXT_CONTENT, return_tensors=\"pt\")\n",
    "  tokenized_batch[\"labels\"] = [label2id[label] for label in batch[\"label\"]]\n",
    "  return tokenized_batch"
   ]
  },
  {
   "cell_type": "code",
   "execution_count": 75,
   "metadata": {},
   "outputs": [
    {
     "name": "stderr",
     "output_type": "stream",
     "text": [
      "Map: 100%|██████████| 98191/98191 [00:15<00:00, 6323.46 examples/s]\n",
      "Map: 100%|██████████| 35068/35068 [00:05<00:00, 6141.25 examples/s]\n",
      "Map: 100%|██████████| 7013/7013 [00:01<00:00, 6013.00 examples/s]\n"
     ]
    }
   ],
   "source": [
    "tokenized_train_dataset = train_dataset.map(tokenize_func, batched=True)\n",
    "tokenized_validation_dataset = validation_dataset.map(tokenize_func, batched=True)\n",
    "tokenized_test_dataset = test_dataset.map(tokenize_func, batched=True)"
   ]
  },
  {
   "cell_type": "markdown",
   "metadata": {},
   "source": [
    "#### COMMENT - IDEAS"
   ]
  },
  {
   "cell_type": "markdown",
   "metadata": {},
   "source": [
    "We probably should:\n",
    "- retrain the whole model (probably smaller) with\n",
    "- better tokenizer - built up from the ground including all the names of the specific tech (languages, frameworks, IDEs, etc.)"
   ]
  },
  {
   "cell_type": "markdown",
   "metadata": {},
   "source": [
    "## Model - Custom"
   ]
  },
  {
   "cell_type": "code",
   "execution_count": 76,
   "metadata": {},
   "outputs": [
    {
     "name": "stderr",
     "output_type": "stream",
     "text": [
      "Some weights of DistilBertForSequenceClassification were not initialized from the model checkpoint at distilbert-base-uncased and are newly initialized: ['classifier.weight', 'classifier.bias', 'pre_classifier.weight', 'pre_classifier.bias']\n",
      "You should probably TRAIN this model on a down-stream task to be able to use it for predictions and inference.\n"
     ]
    }
   ],
   "source": [
    "from custom_model import AutoCompositeModel\n",
    "\n",
    "model = AutoCompositeModel(device).to(device)"
   ]
  },
  {
   "cell_type": "code",
   "execution_count": 77,
   "metadata": {},
   "outputs": [
    {
     "data": {
      "text/plain": [
       "torch.float32"
      ]
     },
     "execution_count": 77,
     "metadata": {},
     "output_type": "execute_result"
    }
   ],
   "source": [
    "model.my_new_layers[0].weight.dtype"
   ]
  },
  {
   "cell_type": "code",
   "execution_count": 78,
   "metadata": {},
   "outputs": [
    {
     "data": {
      "text/plain": [
       "torch.float32"
      ]
     },
     "execution_count": 78,
     "metadata": {},
     "output_type": "execute_result"
    }
   ],
   "source": [
    "input = torch.tensor(tokenized_test_dataset['input_ids'][:10]).float().to(device)\n",
    "input.dtype"
   ]
  },
  {
   "cell_type": "markdown",
   "metadata": {},
   "source": [
    "## Training Setup"
   ]
  },
  {
   "cell_type": "markdown",
   "metadata": {},
   "source": [
    "### Data Loaders"
   ]
  },
  {
   "cell_type": "code",
   "execution_count": 79,
   "metadata": {},
   "outputs": [],
   "source": [
    "from torch.utils.data import DataLoader\n",
    "training_loader = DataLoader(tokenized_train_dataset, batch_size=16, shuffle=True)\n",
    "validation_loader = DataLoader(tokenized_validation_dataset, batch_size=16, shuffle=True)\n",
    "test_loader = DataLoader(tokenized_test_dataset, batch_size=16, shuffle=True)"
   ]
  },
  {
   "cell_type": "markdown",
   "metadata": {},
   "source": [
    "### Loss Function"
   ]
  },
  {
   "cell_type": "code",
   "execution_count": 80,
   "metadata": {},
   "outputs": [],
   "source": [
    "loss_fn = torch.nn.CrossEntropyLoss()"
   ]
  },
  {
   "cell_type": "markdown",
   "metadata": {},
   "source": [
    "### Optimizer"
   ]
  },
  {
   "cell_type": "code",
   "execution_count": 81,
   "metadata": {},
   "outputs": [],
   "source": [
    "# Optimizers specified in the torch.optim package\n",
    "optimizer = torch.optim.SGD(model.parameters(), lr=0.001, momentum=0.9)"
   ]
  },
  {
   "cell_type": "code",
   "execution_count": 82,
   "metadata": {},
   "outputs": [],
   "source": [
    "from torchmetrics import Accuracy\n",
    "\n",
    "accuracy_metric = Accuracy(task='multiclass', num_classes=5).to(device)"
   ]
  },
  {
   "cell_type": "markdown",
   "metadata": {},
   "source": [
    "### Trainer Setup"
   ]
  },
  {
   "cell_type": "code",
   "execution_count": 83,
   "metadata": {},
   "outputs": [],
   "source": [
    "from training_own import Trainer, TrainerConfiguration\n",
    "\n",
    "config = TrainerConfiguration(\n",
    "  training_loader=training_loader,\n",
    "  validation_loader=validation_loader,\n",
    "  optimizer=optimizer,\n",
    "  loss_fn=loss_fn,\n",
    "  accuracy_metric=accuracy_metric,\n",
    "  device=device\n",
    ")"
   ]
  },
  {
   "cell_type": "code",
   "execution_count": 84,
   "metadata": {},
   "outputs": [],
   "source": [
    "trainer = Trainer(model=model, trainer_configuration=config, input_column='input_ids', output_column='labels')"
   ]
  },
  {
   "cell_type": "code",
   "execution_count": 85,
   "metadata": {},
   "outputs": [],
   "source": [
    "# for i, data in enumerate(training_loader):\n",
    "#   if i > 0: break\n",
    "#   # print(i, torch.FloatTensor(data['input_ids']))\n",
    "  \n",
    "#   # a = [torch.FloatTensor([1]).view(1, -1), torch.FloatTensor([2]).view(1, -1)]\n",
    "#   stacked = torch.stack(data['input_ids']).long()\n",
    "#   print(stacked.dtype)\n",
    "\n",
    "#   # model(data['input_ids'])\n",
    "  "
   ]
  },
  {
   "cell_type": "code",
   "execution_count": 86,
   "metadata": {},
   "outputs": [
    {
     "data": {
      "text/plain": [
       "6137"
      ]
     },
     "execution_count": 86,
     "metadata": {},
     "output_type": "execute_result"
    }
   ],
   "source": [
    "len(training_loader)"
   ]
  },
  {
   "cell_type": "code",
   "execution_count": 87,
   "metadata": {},
   "outputs": [
    {
     "name": "stdout",
     "output_type": "stream",
     "text": [
      " batch 100 training_loss: 1.533371275663376 training_accuracy: 0.42249998450279236\n",
      " batch 200 training_loss: 1.3795962047576904 training_accuracy: 0.4949999749660492\n",
      " batch 300 training_loss: 1.2972184842824936 training_accuracy: 0.5099999904632568\n",
      " batch 400 training_loss: 1.2866777056455612 training_accuracy: 0.503125011920929\n",
      " batch 500 training_loss: 1.2555399358272552 training_accuracy: 0.49687498807907104\n",
      " batch 600 training_loss: 1.2619350105524063 training_accuracy: 0.49937498569488525\n",
      " batch 700 training_loss: 1.2167215526103974 training_accuracy: 0.5074999928474426\n",
      " batch 800 training_loss: 1.2119418865442275 training_accuracy: 0.5112499594688416\n",
      " batch 900 training_loss: 1.1912512242794038 training_accuracy: 0.53125\n",
      " batch 1000 training_loss: 1.2086771321296692 training_accuracy: 0.5081250071525574\n",
      " batch 1100 training_loss: 1.1519911015033721 training_accuracy: 0.5531249642372131\n",
      " batch 1200 training_loss: 1.1615573501586913 training_accuracy: 0.5324999690055847\n",
      " batch 1300 training_loss: 1.1565242630243302 training_accuracy: 0.5293750166893005\n",
      " batch 1400 training_loss: 1.1469648855924606 training_accuracy: 0.5331249833106995\n",
      " batch 1500 training_loss: 1.1175275671482086 training_accuracy: 0.5331249833106995\n",
      " batch 1600 training_loss: 1.1044366681575775 training_accuracy: 0.5531249642372131\n",
      " batch 1700 training_loss: 1.1057469853758812 training_accuracy: 0.5649999976158142\n",
      " batch 1800 training_loss: 1.0864014947414398 training_accuracy: 0.581250011920929\n",
      " batch 1900 training_loss: 1.0845006650686264 training_accuracy: 0.5818749666213989\n",
      " batch 2000 training_loss: 1.0599369072914124 training_accuracy: 0.6012499928474426\n",
      " batch 2100 training_loss: 1.0662869888544082 training_accuracy: 0.5993750095367432\n",
      " batch 2200 training_loss: 1.0780765044689178 training_accuracy: 0.5874999761581421\n",
      " batch 2300 training_loss: 1.052699286341667 training_accuracy: 0.5999999642372131\n",
      " batch 2400 training_loss: 1.0172344279289245 training_accuracy: 0.6074999570846558\n",
      " batch 2500 training_loss: 1.0492692923545837 training_accuracy: 0.5987499952316284\n",
      " batch 2600 training_loss: 1.0427011358737945 training_accuracy: 0.6087499856948853\n",
      " batch 2700 training_loss: 1.0172234892845153 training_accuracy: 0.6112499833106995\n",
      " batch 2800 training_loss: 0.986696879863739 training_accuracy: 0.6312499642372131\n",
      " batch 2900 training_loss: 0.9877081197500229 training_accuracy: 0.6274999976158142\n",
      " batch 3000 training_loss: 0.9881161558628082 training_accuracy: 0.6237499713897705\n",
      " batch 3100 training_loss: 0.9676809534430504 training_accuracy: 0.6356250047683716\n",
      " batch 3200 training_loss: 1.0132624363899232 training_accuracy: 0.6187499761581421\n",
      " batch 3300 training_loss: 0.9869117611646652 training_accuracy: 0.6256250143051147\n",
      " batch 3400 training_loss: 0.968365016579628 training_accuracy: 0.628125011920929\n",
      " batch 3500 training_loss: 0.9788037377595902 training_accuracy: 0.6212499737739563\n",
      " batch 3600 training_loss: 0.979350460767746 training_accuracy: 0.6312499642372131\n",
      " batch 3700 training_loss: 0.993530068397522 training_accuracy: 0.6162499785423279\n",
      " batch 3800 training_loss: 0.9385654902458191 training_accuracy: 0.6549999713897705\n",
      " batch 3900 training_loss: 0.9067910015583038 training_accuracy: 0.6606249809265137\n",
      " batch 4000 training_loss: 0.9801504385471344 training_accuracy: 0.6368749737739563\n",
      " batch 4100 training_loss: 0.949703414440155 training_accuracy: 0.6456249952316284\n",
      " batch 4200 training_loss: 0.9650359117984771 training_accuracy: 0.6274999976158142\n",
      " batch 4300 training_loss: 0.9445245736837387 training_accuracy: 0.6612499952316284\n",
      " batch 4400 training_loss: 0.9822333693504334 training_accuracy: 0.6237499713897705\n",
      " batch 4500 training_loss: 0.9382232132554055 training_accuracy: 0.640625\n",
      " batch 4600 training_loss: 0.9536220055818557 training_accuracy: 0.65625\n",
      " batch 4700 training_loss: 0.9429585921764374 training_accuracy: 0.6306250095367432\n",
      " batch 4800 training_loss: 0.9246374213695526 training_accuracy: 0.6537500023841858\n",
      " batch 4900 training_loss: 0.9249873042106629 training_accuracy: 0.6493749618530273\n",
      " batch 5000 training_loss: 0.9587382954359055 training_accuracy: 0.6449999809265137\n",
      " batch 5100 training_loss: 0.961660333275795 training_accuracy: 0.6337499618530273\n",
      " batch 5200 training_loss: 0.914804527759552 training_accuracy: 0.6556249856948853\n",
      " batch 5300 training_loss: 0.9618577706813812 training_accuracy: 0.6468749642372131\n",
      " batch 5400 training_loss: 0.9340073946118355 training_accuracy: 0.6456249952316284\n",
      " batch 5500 training_loss: 0.9642271655797958 training_accuracy: 0.6299999952316284\n",
      " batch 5600 training_loss: 0.9646851432323456 training_accuracy: 0.628125011920929\n",
      " batch 5700 training_loss: 0.9005354511737823 training_accuracy: 0.6656249761581421\n",
      " batch 5800 training_loss: 0.8777671611309051 training_accuracy: 0.6631249785423279\n",
      " batch 5900 training_loss: 0.9772371158003808 training_accuracy: 0.6262499690055847\n",
      " batch 6000 training_loss: 0.9856096053123474 training_accuracy: 0.6274999976158142\n",
      " batch 6100 training_loss: 0.9127078834176063 training_accuracy: 0.6587499976158142\n"
     ]
    },
    {
     "data": {
      "text/plain": [
       "(0.9127078834176063, tensor(0.5987, device='cuda:0'))"
      ]
     },
     "execution_count": 87,
     "metadata": {},
     "output_type": "execute_result"
    }
   ],
   "source": [
    "trainer.train_one_epoch(logging_frequency=100, evaluate_when_logging=False)"
   ]
  }
 ],
 "metadata": {
  "kernelspec": {
   "display_name": "env_torch",
   "language": "python",
   "name": "python3"
  },
  "language_info": {
   "codemirror_mode": {
    "name": "ipython",
    "version": 3
   },
   "file_extension": ".py",
   "mimetype": "text/x-python",
   "name": "python",
   "nbconvert_exporter": "python",
   "pygments_lexer": "ipython3",
   "version": "3.10.13"
  }
 },
 "nbformat": 4,
 "nbformat_minor": 2
}
