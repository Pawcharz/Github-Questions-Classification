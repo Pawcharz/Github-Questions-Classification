{
 "cells": [
  {
   "cell_type": "markdown",
   "metadata": {},
   "source": [
    "## Loading Libraries"
   ]
  },
  {
   "cell_type": "code",
   "execution_count": 24,
   "metadata": {},
   "outputs": [],
   "source": [
    "import pandas as pd\n",
    "import numpy as np\n",
    "import torch\n",
    "import evaluate"
   ]
  },
  {
   "cell_type": "code",
   "execution_count": 25,
   "metadata": {},
   "outputs": [],
   "source": [
    "device = torch.device('cuda')"
   ]
  },
  {
   "cell_type": "markdown",
   "metadata": {},
   "source": [
    "## Loading Dataset"
   ]
  },
  {
   "cell_type": "code",
   "execution_count": 26,
   "metadata": {},
   "outputs": [],
   "source": [
    "df = pd.read_csv('../data/processed/train_sample_processed.csv')"
   ]
  },
  {
   "cell_type": "code",
   "execution_count": 27,
   "metadata": {},
   "outputs": [],
   "source": [
    "statuses = np.unique(df['OpenStatus'].values)\n",
    "\n",
    "id2label = {idx: label for idx, label in enumerate(statuses)}\n",
    "label2id = {label: idx for idx, label in enumerate(statuses)}"
   ]
  },
  {
   "cell_type": "code",
   "execution_count": 28,
   "metadata": {},
   "outputs": [],
   "source": [
    "\n",
    "from custom_dataset import GithubDataset\n",
    "from torch.utils.data import random_split\n",
    "from datasets import Dataset\n",
    "\n",
    "# Create the pytorch dataset\n",
    "full_dataset = GithubDataset(df)"
   ]
  },
  {
   "cell_type": "code",
   "execution_count": 29,
   "metadata": {},
   "outputs": [],
   "source": [
    "train_dataset, validation_dataset, test_dataset = random_split(full_dataset, [0.7, 0.25, 0.05])\n",
    "\n",
    "train_dataset = Dataset.from_dict(train_dataset[:])\n",
    "validation_dataset = Dataset.from_dict(validation_dataset[:])\n",
    "test_dataset = Dataset.from_dict(test_dataset[:])"
   ]
  },
  {
   "cell_type": "code",
   "execution_count": 30,
   "metadata": {},
   "outputs": [],
   "source": [
    "train_dataset = train_dataset.rename_columns({\"text_content\": \"text\", \"status\": \"label\"})\n",
    "validation_dataset = validation_dataset.rename_columns({\"text_content\": \"text\", \"status\": \"label\"})\n",
    "test_dataset = test_dataset.rename_columns({\"text_content\": \"text\", \"status\": \"label\"})\n",
    "\n",
    "columns_to_remove = [\n",
    "  'tags_onehot',\n",
    "  'unrecognized_tags_count',\n",
    "  'reputation',\n",
    "  'undeleted_answers',\n",
    "  'user_life_days',\n",
    "  'title'\n",
    "]\n",
    "\n",
    "train_dataset = train_dataset.remove_columns(columns_to_remove)\n",
    "validation_dataset = validation_dataset.remove_columns(columns_to_remove)\n",
    "test_dataset = test_dataset.remove_columns(columns_to_remove)"
   ]
  },
  {
   "cell_type": "markdown",
   "metadata": {},
   "source": [
    "### Tokenizing Data"
   ]
  },
  {
   "cell_type": "code",
   "execution_count": 31,
   "metadata": {},
   "outputs": [],
   "source": [
    "from transformers import AutoTokenizer\n",
    "\n",
    "tokenizer = AutoTokenizer.from_pretrained(\"distilbert-base-uncased\")"
   ]
  },
  {
   "cell_type": "code",
   "execution_count": 32,
   "metadata": {},
   "outputs": [],
   "source": [
    "MAX_TEXT_CONTENT = 128\n",
    "\n",
    "def tokenize_func(batch):\n",
    "  tokenized_batch = tokenizer(batch['text'], padding=True, truncation=True, max_length=MAX_TEXT_CONTENT, return_tensors=\"pt\")\n",
    "  tokenized_batch[\"labels\"] = [label2id[label] for label in batch[\"label\"]]\n",
    "  return tokenized_batch"
   ]
  },
  {
   "cell_type": "code",
   "execution_count": 33,
   "metadata": {},
   "outputs": [
    {
     "name": "stderr",
     "output_type": "stream",
     "text": [
      "Map: 100%|██████████| 98191/98191 [00:15<00:00, 6513.24 examples/s]\n",
      "Map: 100%|██████████| 35068/35068 [00:05<00:00, 6494.37 examples/s]\n",
      "Map: 100%|██████████| 7013/7013 [00:01<00:00, 6541.76 examples/s]\n"
     ]
    }
   ],
   "source": [
    "tokenized_train_dataset = train_dataset.map(tokenize_func, batched=True)\n",
    "tokenized_validation_dataset = validation_dataset.map(tokenize_func, batched=True)\n",
    "tokenized_test_dataset = test_dataset.map(tokenize_func, batched=True)"
   ]
  },
  {
   "cell_type": "markdown",
   "metadata": {},
   "source": [
    "#### COMMENT - IDEAS"
   ]
  },
  {
   "cell_type": "markdown",
   "metadata": {},
   "source": [
    "We probably should:\n",
    "- retrain the whole model (probably smaller) with\n",
    "- better tokenizer - built up from the ground including all the names of the specific tech (languages, frameworks, IDEs, etc.)"
   ]
  },
  {
   "cell_type": "markdown",
   "metadata": {},
   "source": [
    "## Model - Custom"
   ]
  },
  {
   "cell_type": "code",
   "execution_count": 34,
   "metadata": {},
   "outputs": [],
   "source": [
    "from custom_model import AutoCompositeModel\n",
    "\n",
    "model = AutoCompositeModel(device).to(device)"
   ]
  },
  {
   "cell_type": "code",
   "execution_count": 35,
   "metadata": {},
   "outputs": [],
   "source": [
    "# model.my_new_layers[0].weight.dtype"
   ]
  },
  {
   "cell_type": "code",
   "execution_count": 36,
   "metadata": {},
   "outputs": [
    {
     "data": {
      "text/plain": [
       "torch.float32"
      ]
     },
     "execution_count": 36,
     "metadata": {},
     "output_type": "execute_result"
    }
   ],
   "source": [
    "input = torch.tensor(tokenized_test_dataset['input_ids'][:10]).float().to(device)\n",
    "input.dtype"
   ]
  },
  {
   "cell_type": "markdown",
   "metadata": {},
   "source": [
    "## Training Setup"
   ]
  },
  {
   "cell_type": "markdown",
   "metadata": {},
   "source": [
    "### Data Loaders"
   ]
  },
  {
   "cell_type": "code",
   "execution_count": 37,
   "metadata": {},
   "outputs": [],
   "source": [
    "from torch.utils.data import DataLoader\n",
    "training_loader = DataLoader(tokenized_train_dataset, batch_size=16, shuffle=True)\n",
    "validation_loader = DataLoader(tokenized_validation_dataset, batch_size=16, shuffle=True)\n",
    "test_loader = DataLoader(tokenized_test_dataset, batch_size=16, shuffle=True)"
   ]
  },
  {
   "cell_type": "markdown",
   "metadata": {},
   "source": [
    "### Loss Function"
   ]
  },
  {
   "cell_type": "code",
   "execution_count": 38,
   "metadata": {},
   "outputs": [],
   "source": [
    "loss_fn = torch.nn.CrossEntropyLoss()"
   ]
  },
  {
   "cell_type": "markdown",
   "metadata": {},
   "source": [
    "### Optimizer"
   ]
  },
  {
   "cell_type": "code",
   "execution_count": 39,
   "metadata": {},
   "outputs": [],
   "source": [
    "# Optimizers specified in the torch.optim package\n",
    "# optimizer = torch.optim.SGD(model.parameters(), lr=0.001, momentum=0.9)\n",
    "\n",
    "# optimizer = torch.optim.Adam(model.parameters(), lr=1e-4, weight_decay=1e-5)\n",
    "\n",
    "optimizer = torch.optim.SGD(model.parameters(), lr=1e-4, weight_decay=1e-4)"
   ]
  },
  {
   "cell_type": "code",
   "execution_count": 40,
   "metadata": {},
   "outputs": [],
   "source": [
    "from torchmetrics import Accuracy\n",
    "\n",
    "accuracy_metric = Accuracy(task='multiclass', num_classes=5).to(device)"
   ]
  },
  {
   "cell_type": "markdown",
   "metadata": {},
   "source": [
    "### Trainer Setup"
   ]
  },
  {
   "cell_type": "code",
   "execution_count": 41,
   "metadata": {},
   "outputs": [],
   "source": [
    "from training_own import Trainer, TrainerConfiguration, get_model_params\n",
    "\n",
    "config = TrainerConfiguration(\n",
    "  training_loader=training_loader,\n",
    "  validation_loader=validation_loader,\n",
    "  optimizer=optimizer,\n",
    "  loss_fn=loss_fn,\n",
    "  accuracy_metric=accuracy_metric,\n",
    "  device=device\n",
    ")"
   ]
  },
  {
   "cell_type": "code",
   "execution_count": 42,
   "metadata": {},
   "outputs": [
    {
     "data": {
      "text/plain": [
       "273445"
      ]
     },
     "execution_count": 42,
     "metadata": {},
     "output_type": "execute_result"
    }
   ],
   "source": [
    "get_model_params(model)"
   ]
  },
  {
   "cell_type": "code",
   "execution_count": 43,
   "metadata": {},
   "outputs": [],
   "source": [
    "trainer = Trainer(model=model, trainer_configuration=config, input_column='input_ids', output_column='labels')"
   ]
  },
  {
   "cell_type": "code",
   "execution_count": 44,
   "metadata": {},
   "outputs": [
    {
     "data": {
      "text/plain": [
       "6137"
      ]
     },
     "execution_count": 44,
     "metadata": {},
     "output_type": "execute_result"
    }
   ],
   "source": [
    "len(training_loader)"
   ]
  },
  {
   "cell_type": "code",
   "execution_count": 45,
   "metadata": {},
   "outputs": [
    {
     "name": "stderr",
     "output_type": "stream",
     "text": [
      "c:\\Users\\Pawel\\Documents\\_projects\\Github-Questions-Classification\\notebooks\\training_own.py:57: UserWarning: Anomaly Detection has been enabled. This mode will increase the runtime and should only be enabled for debugging.\n",
      "  with autograd.detect_anomaly():\n"
     ]
    },
    {
     "name": "stdout",
     "output_type": "stream",
     "text": [
      " batch 100 training_loss: 1.6400083601474762 training_accuracy: 0.13249999284744263\n",
      " batch 200 training_loss: 1.6370729553699492 training_accuracy: 0.12937499582767487\n",
      " batch 300 training_loss: 1.6329244923591615 training_accuracy: 0.12937499582767487\n",
      " batch 400 training_loss: 1.6193859839439393 training_accuracy: 0.12437500059604645\n",
      " batch 500 training_loss: 1.6175179052352906 training_accuracy: 0.1368750035762787\n",
      " batch 600 training_loss: 1.6114121413230895 training_accuracy: 0.1274999976158142\n",
      " batch 700 training_loss: 1.6063063311576844 training_accuracy: 0.14499999582767487\n",
      " batch 800 training_loss: 1.5986646687984467 training_accuracy: 0.14874999225139618\n",
      " batch 900 training_loss: 1.598515533208847 training_accuracy: 0.15187498927116394\n",
      " batch 1000 training_loss: 1.5900797498226167 training_accuracy: 0.17125000059604645\n",
      " batch 1100 training_loss: 1.5829271519184112 training_accuracy: 0.203125\n",
      " batch 1200 training_loss: 1.5778765380382538 training_accuracy: 0.24187499284744263\n",
      " batch 1300 training_loss: 1.5750402748584746 training_accuracy: 0.2718749940395355\n",
      " batch 1400 training_loss: 1.5695549869537353 training_accuracy: 0.3137499988079071\n",
      " batch 1500 training_loss: 1.559586374759674 training_accuracy: 0.3687500059604645\n",
      " batch 1600 training_loss: 1.5614831554889679 training_accuracy: 0.38499999046325684\n",
      " batch 1700 training_loss: 1.5527690970897674 training_accuracy: 0.4131249785423279\n",
      " batch 1800 training_loss: 1.5481006681919098 training_accuracy: 0.42624998092651367\n",
      " batch 1900 training_loss: 1.5393516492843629 training_accuracy: 0.46312499046325684\n",
      " batch 2000 training_loss: 1.5346322405338286 training_accuracy: 0.47999998927116394\n",
      " batch 2100 training_loss: 1.532557954788208 training_accuracy: 0.47312498092651367\n",
      " batch 2200 training_loss: 1.5284332454204559 training_accuracy: 0.46937498450279236\n",
      " batch 2300 training_loss: 1.5188901448249816 training_accuracy: 0.49312499165534973\n",
      " batch 2400 training_loss: 1.5097035050392151 training_accuracy: 0.503125011920929\n",
      " batch 2500 training_loss: 1.502730699777603 training_accuracy: 0.5006250143051147\n",
      " batch 2600 training_loss: 1.506682071685791 training_accuracy: 0.4818750023841858\n",
      " batch 2700 training_loss: 1.4993257474899293 training_accuracy: 0.4906249940395355\n",
      " batch 2800 training_loss: 1.4848908746242524 training_accuracy: 0.5162500143051147\n",
      " batch 2900 training_loss: 1.4824882459640503 training_accuracy: 0.4962500035762787\n",
      " batch 3000 training_loss: 1.4749212527275086 training_accuracy: 0.5037499666213989\n",
      " batch 3100 training_loss: 1.4619016098976134 training_accuracy: 0.515625\n",
      " batch 3200 training_loss: 1.4658576238155365 training_accuracy: 0.49687498807907104\n",
      " batch 3300 training_loss: 1.457766981124878 training_accuracy: 0.5043749809265137\n",
      " batch 3400 training_loss: 1.4352555906772613 training_accuracy: 0.5237500071525574\n",
      " batch 3500 training_loss: 1.4481372785568238 training_accuracy: 0.4987500011920929\n",
      " batch 3600 training_loss: 1.4373049652576446 training_accuracy: 0.5024999976158142\n",
      " batch 3700 training_loss: 1.4409905314445495 training_accuracy: 0.4906249940395355\n",
      " batch 3800 training_loss: 1.4345276534557343 training_accuracy: 0.4987500011920929\n",
      " batch 3900 training_loss: 1.4288019025325776 training_accuracy: 0.48124998807907104\n",
      " batch 4000 training_loss: 1.426109824180603 training_accuracy: 0.484375\n",
      " batch 4100 training_loss: 1.4270130908489227 training_accuracy: 0.47874999046325684\n",
      " batch 4200 training_loss: 1.406206442117691 training_accuracy: 0.5037499666213989\n",
      " batch 4300 training_loss: 1.3766916215419769 training_accuracy: 0.5293750166893005\n",
      " batch 4400 training_loss: 1.3953430509567262 training_accuracy: 0.5006250143051147\n",
      " batch 4500 training_loss: 1.3919310057163239 training_accuracy: 0.49562498927116394\n",
      " batch 4600 training_loss: 1.3779070162773133 training_accuracy: 0.512499988079071\n",
      " batch 4700 training_loss: 1.3794852936267852 training_accuracy: 0.5087499618530273\n",
      " batch 4800 training_loss: 1.3822167766094209 training_accuracy: 0.4975000023841858\n",
      " batch 4900 training_loss: 1.3787452971935272 training_accuracy: 0.5006250143051147\n",
      " batch 5000 training_loss: 1.3675810408592224 training_accuracy: 0.5024999976158142\n",
      " batch 5100 training_loss: 1.3795767843723297 training_accuracy: 0.4962500035762787\n",
      " batch 5200 training_loss: 1.365223639011383 training_accuracy: 0.5018749833106995\n",
      " batch 5300 training_loss: 1.3740570294857024 training_accuracy: 0.48749998211860657\n",
      " batch 5400 training_loss: 1.3706865990161896 training_accuracy: 0.49437499046325684\n",
      " batch 5500 training_loss: 1.3760524928569793 training_accuracy: 0.48374998569488525\n",
      " batch 5600 training_loss: 1.3568254840373992 training_accuracy: 0.5087499618530273\n",
      " batch 5700 training_loss: 1.3544488883018493 training_accuracy: 0.5049999952316284\n",
      " batch 5800 training_loss: 1.3050773793458939 training_accuracy: 0.5450000166893005\n",
      " batch 5900 training_loss: 1.343813887834549 training_accuracy: 0.5143749713897705\n",
      " batch 6000 training_loss: 1.3560230720043183 training_accuracy: 0.4912499785423279\n",
      " batch 6100 training_loss: 1.3501731806993484 training_accuracy: 0.4962500035762787\n"
     ]
    },
    {
     "data": {
      "text/plain": [
       "(1.3501731806993484, tensor(0.4177, device='cuda:0'))"
      ]
     },
     "execution_count": 45,
     "metadata": {},
     "output_type": "execute_result"
    }
   ],
   "source": [
    "trainer.train_one_epoch(logging_frequency=100, evaluate_when_logging=False)"
   ]
  }
 ],
 "metadata": {
  "kernelspec": {
   "display_name": "env_torch",
   "language": "python",
   "name": "python3"
  },
  "language_info": {
   "codemirror_mode": {
    "name": "ipython",
    "version": 3
   },
   "file_extension": ".py",
   "mimetype": "text/x-python",
   "name": "python",
   "nbconvert_exporter": "python",
   "pygments_lexer": "ipython3",
   "version": "3.10.13"
  }
 },
 "nbformat": 4,
 "nbformat_minor": 2
}
