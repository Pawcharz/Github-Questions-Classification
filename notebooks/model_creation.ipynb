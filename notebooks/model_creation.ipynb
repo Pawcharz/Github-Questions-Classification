{
 "cells": [
  {
   "cell_type": "markdown",
   "metadata": {},
   "source": [
    "## Loading Libraries"
   ]
  },
  {
   "cell_type": "code",
   "execution_count": 1,
   "metadata": {},
   "outputs": [
    {
     "name": "stderr",
     "output_type": "stream",
     "text": [
      "c:\\Users\\Pawel\\anaconda3\\envs\\env_torch\\lib\\site-packages\\tqdm\\auto.py:21: TqdmWarning: IProgress not found. Please update jupyter and ipywidgets. See https://ipywidgets.readthedocs.io/en/stable/user_install.html\n",
      "  from .autonotebook import tqdm as notebook_tqdm\n"
     ]
    }
   ],
   "source": [
    "import pandas as pd\n",
    "import numpy as np\n",
    "import torch\n",
    "import evaluate"
   ]
  },
  {
   "cell_type": "code",
   "execution_count": 2,
   "metadata": {},
   "outputs": [],
   "source": [
    "device = torch.device('cuda')"
   ]
  },
  {
   "cell_type": "markdown",
   "metadata": {},
   "source": [
    "## Loading Dataset"
   ]
  },
  {
   "cell_type": "code",
   "execution_count": 3,
   "metadata": {},
   "outputs": [],
   "source": [
    "df = pd.read_csv('../data/processed/train_sample_processed.csv')"
   ]
  },
  {
   "cell_type": "code",
   "execution_count": 4,
   "metadata": {},
   "outputs": [],
   "source": [
    "statuses = np.unique(df['OpenStatus'].values)\n",
    "\n",
    "id2label = {idx: label for idx, label in enumerate(statuses)}\n",
    "label2id = {label: idx for idx, label in enumerate(statuses)}"
   ]
  },
  {
   "cell_type": "code",
   "execution_count": 5,
   "metadata": {},
   "outputs": [],
   "source": [
    "\n",
    "from custom_dataset import GithubDataset\n",
    "from torch.utils.data import random_split\n",
    "from datasets import Dataset\n",
    "\n",
    "# Create the pytorch dataset\n",
    "full_dataset = GithubDataset(df)"
   ]
  },
  {
   "cell_type": "code",
   "execution_count": 6,
   "metadata": {},
   "outputs": [],
   "source": [
    "train_dataset, validation_dataset, test_dataset = random_split(full_dataset, [0.7, 0.25, 0.05])\n",
    "\n",
    "train_dataset = Dataset.from_dict(train_dataset[:])\n",
    "validation_dataset = Dataset.from_dict(validation_dataset[:])\n",
    "test_dataset = Dataset.from_dict(test_dataset[:])"
   ]
  },
  {
   "cell_type": "code",
   "execution_count": 7,
   "metadata": {},
   "outputs": [],
   "source": [
    "train_dataset = train_dataset.rename_columns({\"text_content\": \"text\", \"status\": \"label\"})\n",
    "validation_dataset = validation_dataset.rename_columns({\"text_content\": \"text\", \"status\": \"label\"})\n",
    "test_dataset = test_dataset.rename_columns({\"text_content\": \"text\", \"status\": \"label\"})\n",
    "\n",
    "columns_to_remove = [\n",
    "  'tags_onehot',\n",
    "  'unrecognized_tags_count',\n",
    "  'reputation',\n",
    "  'undeleted_answers',\n",
    "  'user_life_days',\n",
    "  'title'\n",
    "]\n",
    "\n",
    "train_dataset = train_dataset.remove_columns(columns_to_remove)\n",
    "validation_dataset = validation_dataset.remove_columns(columns_to_remove)\n",
    "test_dataset = test_dataset.remove_columns(columns_to_remove)"
   ]
  },
  {
   "cell_type": "markdown",
   "metadata": {},
   "source": [
    "### Tokenizing Data"
   ]
  },
  {
   "cell_type": "code",
   "execution_count": 8,
   "metadata": {},
   "outputs": [],
   "source": [
    "from transformers import AutoTokenizer\n",
    "\n",
    "tokenizer = AutoTokenizer.from_pretrained(\"distilbert-base-uncased\")"
   ]
  },
  {
   "cell_type": "code",
   "execution_count": 9,
   "metadata": {},
   "outputs": [],
   "source": [
    "MAX_TEXT_CONTENT = 128\n",
    "\n",
    "def tokenize_func(batch):\n",
    "  tokenized_batch = tokenizer(batch['text'], padding=True, truncation=True, max_length=MAX_TEXT_CONTENT, return_tensors=\"pt\")\n",
    "  tokenized_batch[\"labels\"] = [label2id[label] for label in batch[\"label\"]]\n",
    "  return tokenized_batch"
   ]
  },
  {
   "cell_type": "code",
   "execution_count": 10,
   "metadata": {},
   "outputs": [
    {
     "name": "stderr",
     "output_type": "stream",
     "text": [
      "Map: 100%|██████████| 98191/98191 [00:16<00:00, 6056.52 examples/s]\n",
      "Map: 100%|██████████| 35068/35068 [00:05<00:00, 6047.83 examples/s]\n",
      "Map: 100%|██████████| 7013/7013 [00:01<00:00, 6114.92 examples/s]\n"
     ]
    }
   ],
   "source": [
    "tokenized_train_dataset = train_dataset.map(tokenize_func, batched=True)\n",
    "tokenized_validation_dataset = validation_dataset.map(tokenize_func, batched=True)\n",
    "tokenized_test_dataset = test_dataset.map(tokenize_func, batched=True)"
   ]
  },
  {
   "cell_type": "markdown",
   "metadata": {},
   "source": [
    "#### COMMENT - IDEAS"
   ]
  },
  {
   "cell_type": "markdown",
   "metadata": {},
   "source": [
    "We probably should:\n",
    "- retrain the whole model (probably smaller) with\n",
    "- better tokenizer - built up from the ground including all the names of the specific tech (languages, frameworks, IDEs, etc.)"
   ]
  },
  {
   "cell_type": "markdown",
   "metadata": {},
   "source": [
    "## Model - Custom"
   ]
  },
  {
   "cell_type": "code",
   "execution_count": 11,
   "metadata": {},
   "outputs": [
    {
     "name": "stderr",
     "output_type": "stream",
     "text": [
      "c:\\Users\\Pawel\\anaconda3\\envs\\env_torch\\lib\\site-packages\\torch\\nn\\modules\\transformer.py:282: UserWarning: enable_nested_tensor is True, but self.use_nested_tensor is False because encoder_layer.self_attn.batch_first was not True(use batch_first for better inference performance)\n",
      "  warnings.warn(f\"enable_nested_tensor is True, but self.use_nested_tensor is False because {why_not_sparsity_fast_path}\")\n"
     ]
    }
   ],
   "source": [
    "from custom_model import AutoCompositeModel\n",
    "\n",
    "model = AutoCompositeModel(device).to(device)"
   ]
  },
  {
   "cell_type": "code",
   "execution_count": 12,
   "metadata": {},
   "outputs": [
    {
     "data": {
      "text/plain": [
       "torch.float32"
      ]
     },
     "execution_count": 12,
     "metadata": {},
     "output_type": "execute_result"
    }
   ],
   "source": [
    "model.my_new_layers[0].weight.dtype"
   ]
  },
  {
   "cell_type": "code",
   "execution_count": 13,
   "metadata": {},
   "outputs": [
    {
     "data": {
      "text/plain": [
       "torch.float32"
      ]
     },
     "execution_count": 13,
     "metadata": {},
     "output_type": "execute_result"
    }
   ],
   "source": [
    "input = torch.tensor(tokenized_test_dataset['input_ids'][:10]).float().to(device)\n",
    "input.dtype"
   ]
  },
  {
   "cell_type": "markdown",
   "metadata": {},
   "source": [
    "## Training Setup"
   ]
  },
  {
   "cell_type": "markdown",
   "metadata": {},
   "source": [
    "### Data Loaders"
   ]
  },
  {
   "cell_type": "code",
   "execution_count": 14,
   "metadata": {},
   "outputs": [],
   "source": [
    "from torch.utils.data import DataLoader\n",
    "training_loader = DataLoader(tokenized_train_dataset, batch_size=16, shuffle=True)\n",
    "validation_loader = DataLoader(tokenized_validation_dataset, batch_size=16, shuffle=True)\n",
    "test_loader = DataLoader(tokenized_test_dataset, batch_size=16, shuffle=True)"
   ]
  },
  {
   "cell_type": "markdown",
   "metadata": {},
   "source": [
    "### Loss Function"
   ]
  },
  {
   "cell_type": "code",
   "execution_count": 15,
   "metadata": {},
   "outputs": [],
   "source": [
    "loss_fn = torch.nn.CrossEntropyLoss()"
   ]
  },
  {
   "cell_type": "markdown",
   "metadata": {},
   "source": [
    "### Optimizer"
   ]
  },
  {
   "cell_type": "code",
   "execution_count": 16,
   "metadata": {},
   "outputs": [],
   "source": [
    "# Optimizers specified in the torch.optim package\n",
    "# optimizer = torch.optim.SGD(model.parameters(), lr=0.001, momentum=0.9)\n",
    "\n",
    "# optimizer = torch.optim.Adam(model.parameters(), lr=1e-4, weight_decay=1e-5)\n",
    "\n",
    "optimizer = torch.optim.SGD(model.parameters(), lr=1e-4, weight_decay=1e-4)"
   ]
  },
  {
   "cell_type": "code",
   "execution_count": 17,
   "metadata": {},
   "outputs": [],
   "source": [
    "from torchmetrics import Accuracy\n",
    "\n",
    "accuracy_metric = Accuracy(task='multiclass', num_classes=5).to(device)"
   ]
  },
  {
   "cell_type": "markdown",
   "metadata": {},
   "source": [
    "### Trainer Setup"
   ]
  },
  {
   "cell_type": "code",
   "execution_count": 18,
   "metadata": {},
   "outputs": [],
   "source": [
    "from training_own import Trainer, TrainerConfiguration, get_model_params\n",
    "\n",
    "config = TrainerConfiguration(\n",
    "  training_loader=training_loader,\n",
    "  validation_loader=validation_loader,\n",
    "  optimizer=optimizer,\n",
    "  loss_fn=loss_fn,\n",
    "  accuracy_metric=accuracy_metric,\n",
    "  device=device\n",
    ")"
   ]
  },
  {
   "cell_type": "code",
   "execution_count": 19,
   "metadata": {},
   "outputs": [
    {
     "data": {
      "text/plain": [
       "3558144"
      ]
     },
     "execution_count": 19,
     "metadata": {},
     "output_type": "execute_result"
    }
   ],
   "source": [
    "get_model_params(model.model_content)"
   ]
  },
  {
   "cell_type": "code",
   "execution_count": 20,
   "metadata": {},
   "outputs": [],
   "source": [
    "trainer = Trainer(model=model, trainer_configuration=config, input_column='input_ids', output_column='labels')"
   ]
  },
  {
   "cell_type": "code",
   "execution_count": 21,
   "metadata": {},
   "outputs": [],
   "source": [
    "# for i, data in enumerate(training_loader):\n",
    "#   if i > 0: break\n",
    "#   # print(i, torch.FloatTensor(data['input_ids']))\n",
    "  \n",
    "#   # a = [torch.FloatTensor([1]).view(1, -1), torch.FloatTensor([2]).view(1, -1)]\n",
    "#   stacked = torch.stack(data['input_ids']).long()\n",
    "#   print(stacked.dtype)\n",
    "\n",
    "#   # model(data['input_ids'])\n",
    "  "
   ]
  },
  {
   "cell_type": "code",
   "execution_count": 22,
   "metadata": {},
   "outputs": [
    {
     "data": {
      "text/plain": [
       "6137"
      ]
     },
     "execution_count": 22,
     "metadata": {},
     "output_type": "execute_result"
    }
   ],
   "source": [
    "len(training_loader)"
   ]
  },
  {
   "cell_type": "code",
   "execution_count": 23,
   "metadata": {},
   "outputs": [
    {
     "name": "stdout",
     "output_type": "stream",
     "text": [
      " batch 100 training_loss: 1.6380150377750398 training_accuracy: 0.0768750011920929\n",
      " batch 200 training_loss: 1.640323760509491 training_accuracy: 0.06187499687075615\n",
      " batch 300 training_loss: 1.6398781383037566 training_accuracy: 0.07187499850988388\n",
      " batch 400 training_loss: 1.6423733866214751 training_accuracy: 0.07000000029802322\n",
      " batch 500 training_loss: 1.6402418160438537 training_accuracy: 0.08562500029802322\n",
      " batch 600 training_loss: 1.638577687740326 training_accuracy: 0.07187499850988388\n",
      " batch 700 training_loss: 1.6382822072505951 training_accuracy: 0.0793749988079071\n",
      " batch 800 training_loss: 1.6397054278850556 training_accuracy: 0.07625000178813934\n",
      " batch 900 training_loss: 1.6389861512184143 training_accuracy: 0.08062499761581421\n",
      " batch 1000 training_loss: 1.6367674934864045 training_accuracy: 0.08999999612569809\n",
      " batch 1100 training_loss: 1.6375688672065736 training_accuracy: 0.08812499791383743\n",
      " batch 1200 training_loss: 1.6333950936794281 training_accuracy: 0.08249999582767487\n",
      " batch 1300 training_loss: 1.635558705329895 training_accuracy: 0.08062499761581421\n",
      " batch 1400 training_loss: 1.6366781449317933 training_accuracy: 0.07625000178813934\n",
      " batch 1500 training_loss: 1.6340957546234132 training_accuracy: 0.08374999463558197\n",
      " batch 1600 training_loss: 1.6370621883869172 training_accuracy: 0.07999999821186066\n",
      " batch 1700 training_loss: 1.6342104220390319 training_accuracy: 0.07750000059604645\n",
      " batch 1800 training_loss: 1.6347625696659087 training_accuracy: 0.08312499523162842\n",
      " batch 1900 training_loss: 1.6319131994247436 training_accuracy: 0.08999999612569809\n",
      " batch 2000 training_loss: 1.6338483810424804 training_accuracy: 0.08624999970197678\n",
      " batch 2100 training_loss: 1.6306570434570313 training_accuracy: 0.08999999612569809\n",
      " batch 2200 training_loss: 1.630073343515396 training_accuracy: 0.08624999970197678\n",
      " batch 2300 training_loss: 1.6317852282524108 training_accuracy: 0.08874999731779099\n",
      " batch 2400 training_loss: 1.6304873263835906 training_accuracy: 0.10125000029802322\n",
      " batch 2500 training_loss: 1.630367271900177 training_accuracy: 0.08999999612569809\n",
      " batch 2600 training_loss: 1.6268252277374267 training_accuracy: 0.11312499642372131\n",
      " batch 2700 training_loss: 1.6280992305278779 training_accuracy: 0.10562499612569809\n",
      " batch 2800 training_loss: 1.6293018782138824 training_accuracy: 0.09312500059604645\n",
      " batch 2900 training_loss: 1.6297588789463042 training_accuracy: 0.09312500059604645\n",
      " batch 3000 training_loss: 1.6278841340541839 training_accuracy: 0.09624999761581421\n",
      " batch 3100 training_loss: 1.62813858628273 training_accuracy: 0.09812499582767487\n",
      " batch 3200 training_loss: 1.6283402335643768 training_accuracy: 0.09375\n",
      " batch 3300 training_loss: 1.6265876650810243 training_accuracy: 0.10312499850988388\n",
      " batch 3400 training_loss: 1.6292394018173217 training_accuracy: 0.08874999731779099\n",
      " batch 3500 training_loss: 1.6264643704891204 training_accuracy: 0.1081250011920929\n",
      " batch 3600 training_loss: 1.6236366403102875 training_accuracy: 0.10875000059604645\n",
      " batch 3700 training_loss: 1.6258200442790984 training_accuracy: 0.11749999970197678\n",
      " batch 3800 training_loss: 1.6253378677368164 training_accuracy: 0.11312499642372131\n",
      " batch 3900 training_loss: 1.6255427706241607 training_accuracy: 0.11124999821186066\n",
      " batch 4000 training_loss: 1.6235545253753663 training_accuracy: 0.11562499403953552\n",
      " batch 4100 training_loss: 1.6261903655529022 training_accuracy: 0.09749999642372131\n",
      " batch 4200 training_loss: 1.620831083059311 training_accuracy: 0.13124999403953552\n",
      " batch 4300 training_loss: 1.6222598111629487 training_accuracy: 0.1274999976158142\n",
      " batch 4400 training_loss: 1.6229230678081512 training_accuracy: 0.10875000059604645\n",
      " batch 4500 training_loss: 1.619789900779724 training_accuracy: 0.13249999284744263\n",
      " batch 4600 training_loss: 1.6196285343170167 training_accuracy: 0.1274999976158142\n",
      " batch 4700 training_loss: 1.6223391497135162 training_accuracy: 0.11187499761581421\n",
      " batch 4800 training_loss: 1.6209444069862367 training_accuracy: 0.125\n",
      " batch 4900 training_loss: 1.61741797208786 training_accuracy: 0.14124999940395355\n",
      " batch 5000 training_loss: 1.6170619201660157 training_accuracy: 0.15062499046325684\n",
      " batch 5100 training_loss: 1.6155382776260376 training_accuracy: 0.1550000011920929\n",
      " batch 5200 training_loss: 1.617975242137909 training_accuracy: 0.12437500059604645\n",
      " batch 5300 training_loss: 1.6186818027496337 training_accuracy: 0.14749999344348907\n",
      " batch 5400 training_loss: 1.6176839172840118 training_accuracy: 0.14124999940395355\n",
      " batch 5500 training_loss: 1.6189267683029174 training_accuracy: 0.1356249898672104\n",
      " batch 5600 training_loss: 1.6179614424705506 training_accuracy: 0.13750000298023224\n",
      " batch 5700 training_loss: 1.618227469921112 training_accuracy: 0.13312499225139618\n",
      " batch 5800 training_loss: 1.6159377384185791 training_accuracy: 0.1418749988079071\n",
      " batch 5900 training_loss: 1.6149139976501465 training_accuracy: 0.15562500059604645\n",
      " batch 6000 training_loss: 1.6158389830589295 training_accuracy: 0.15312500298023224\n",
      " batch 6100 training_loss: 1.614632785320282 training_accuracy: 0.14687499403953552\n",
      " batch 1000 training_loss: 1.6128800178766252 validation_loss: 1.6102912425994873 training_accuracy: 0.16350001096725464 validation_accuracy 0.18038131296634674\n",
      " batch 2000 training_loss: 1.6079235841035844 validation_loss: 1.606069564819336 training_accuracy: 0.19506250321865082 validation_accuracy 0.20705024898052216\n",
      " batch 3000 training_loss: 1.6035909943580628 validation_loss: 1.6018658876419067 training_accuracy: 0.22150000929832458 validation_accuracy 0.23718826472759247\n",
      " batch 4000 training_loss: 1.5996515908241271 validation_loss: 1.5978121757507324 training_accuracy: 0.2502500116825104 validation_accuracy 0.26411381363868713\n",
      " batch 5000 training_loss: 1.5958692201375961 validation_loss: 1.5938389301300049 training_accuracy: 0.2763125002384186 validation_accuracy 0.29321587085723877\n",
      " batch 6000 training_loss: 1.5921369595527648 validation_loss: 1.589873194694519 training_accuracy: 0.30637502670288086 validation_accuracy 0.32061663269996643\n"
     ]
    },
    {
     "data": {
      "text/plain": [
       "(1.5921369595527648, tensor(0.2372, device='cuda:0'))"
      ]
     },
     "execution_count": 23,
     "metadata": {},
     "output_type": "execute_result"
    }
   ],
   "source": [
    "trainer.train_one_epoch(logging_frequency=100, evaluate_when_logging=False)\n",
    "trainer.train_one_epoch(logging_frequency=1000, evaluate_when_logging=True)\n",
    "# trainer.train_one_epoch(logging_frequency=100, evaluate_when_logging=False)\n",
    "# trainer.train_one_epoch(logging_frequency=100, evaluate_when_logging=False)\n",
    "# trainer.train_one_epoch(logging_frequency=100, evaluate_when_logging=False)"
   ]
  }
 ],
 "metadata": {
  "kernelspec": {
   "display_name": "env_torch",
   "language": "python",
   "name": "python3"
  },
  "language_info": {
   "codemirror_mode": {
    "name": "ipython",
    "version": 3
   },
   "file_extension": ".py",
   "mimetype": "text/x-python",
   "name": "python",
   "nbconvert_exporter": "python",
   "pygments_lexer": "ipython3",
   "version": "3.10.13"
  }
 },
 "nbformat": 4,
 "nbformat_minor": 2
}
