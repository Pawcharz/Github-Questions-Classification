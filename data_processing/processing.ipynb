{
 "cells": [
  {
   "cell_type": "markdown",
   "metadata": {},
   "source": [
    "### Importing Libraries"
   ]
  },
  {
   "cell_type": "code",
   "execution_count": 87,
   "metadata": {},
   "outputs": [],
   "source": [
    "import warnings\n",
    "import pandas as pd\n",
    "import numpy as np\n",
    "\n",
    "warnings.simplefilter(action='ignore', category=FutureWarning)"
   ]
  },
  {
   "cell_type": "markdown",
   "metadata": {},
   "source": [
    "## Loading and Analysing Dataframe"
   ]
  },
  {
   "cell_type": "code",
   "execution_count": 88,
   "metadata": {},
   "outputs": [],
   "source": [
    "df = pd.read_csv('../data/raw/train-sample.csv')"
   ]
  },
  {
   "cell_type": "code",
   "execution_count": 89,
   "metadata": {},
   "outputs": [
    {
     "name": "stdout",
     "output_type": "stream",
     "text": [
      "Index(['PostId', 'PostCreationDate', 'OwnerUserId', 'OwnerCreationDate',\n",
      "       'ReputationAtPostCreation', 'OwnerUndeletedAnswerCountAtPostTime',\n",
      "       'Title', 'BodyMarkdown', 'Tag1', 'Tag2', 'Tag3', 'Tag4', 'Tag5',\n",
      "       'PostClosedDate', 'OpenStatus'],\n",
      "      dtype='object')\n"
     ]
    },
    {
     "data": {
      "text/html": [
       "<div>\n",
       "<style scoped>\n",
       "    .dataframe tbody tr th:only-of-type {\n",
       "        vertical-align: middle;\n",
       "    }\n",
       "\n",
       "    .dataframe tbody tr th {\n",
       "        vertical-align: top;\n",
       "    }\n",
       "\n",
       "    .dataframe thead th {\n",
       "        text-align: right;\n",
       "    }\n",
       "</style>\n",
       "<table border=\"1\" class=\"dataframe\">\n",
       "  <thead>\n",
       "    <tr style=\"text-align: right;\">\n",
       "      <th></th>\n",
       "      <th>PostId</th>\n",
       "      <th>PostCreationDate</th>\n",
       "      <th>OwnerUserId</th>\n",
       "      <th>OwnerCreationDate</th>\n",
       "      <th>ReputationAtPostCreation</th>\n",
       "      <th>OwnerUndeletedAnswerCountAtPostTime</th>\n",
       "      <th>Title</th>\n",
       "      <th>BodyMarkdown</th>\n",
       "      <th>Tag1</th>\n",
       "      <th>Tag2</th>\n",
       "      <th>Tag3</th>\n",
       "      <th>Tag4</th>\n",
       "      <th>Tag5</th>\n",
       "      <th>PostClosedDate</th>\n",
       "      <th>OpenStatus</th>\n",
       "    </tr>\n",
       "  </thead>\n",
       "  <tbody>\n",
       "    <tr>\n",
       "      <th>0</th>\n",
       "      <td>6046168</td>\n",
       "      <td>05/18/2011 14:14:05</td>\n",
       "      <td>543315</td>\n",
       "      <td>09/17/2010 10:15:06</td>\n",
       "      <td>1</td>\n",
       "      <td>2</td>\n",
       "      <td>For Mongodb is it better to reference an objec...</td>\n",
       "      <td>I am building a corpus of indexed sentences in...</td>\n",
       "      <td>mongodb</td>\n",
       "      <td>NaN</td>\n",
       "      <td>NaN</td>\n",
       "      <td>NaN</td>\n",
       "      <td>NaN</td>\n",
       "      <td>NaN</td>\n",
       "      <td>open</td>\n",
       "    </tr>\n",
       "    <tr>\n",
       "      <th>1</th>\n",
       "      <td>4873911</td>\n",
       "      <td>02/02/2011 11:30:10</td>\n",
       "      <td>465076</td>\n",
       "      <td>10/03/2010 09:30:58</td>\n",
       "      <td>192</td>\n",
       "      <td>24</td>\n",
       "      <td>How to insert schemalocation in a xml document...</td>\n",
       "      <td>i create a xml document with JAXP and search a...</td>\n",
       "      <td>dom</td>\n",
       "      <td>xsd</td>\n",
       "      <td>jaxp</td>\n",
       "      <td>NaN</td>\n",
       "      <td>NaN</td>\n",
       "      <td>NaN</td>\n",
       "      <td>open</td>\n",
       "    </tr>\n",
       "    <tr>\n",
       "      <th>2</th>\n",
       "      <td>3311559</td>\n",
       "      <td>07/22/2010 17:21:54</td>\n",
       "      <td>406143</td>\n",
       "      <td>07/22/2010 16:58:20</td>\n",
       "      <td>1</td>\n",
       "      <td>0</td>\n",
       "      <td>Too many lookup tables</td>\n",
       "      <td>What are the adverse effects of having too man...</td>\n",
       "      <td>sql-server</td>\n",
       "      <td>database-design</td>\n",
       "      <td>enums</td>\n",
       "      <td>NaN</td>\n",
       "      <td>NaN</td>\n",
       "      <td>NaN</td>\n",
       "      <td>open</td>\n",
       "    </tr>\n",
       "  </tbody>\n",
       "</table>\n",
       "</div>"
      ],
      "text/plain": [
       "    PostId     PostCreationDate  OwnerUserId    OwnerCreationDate  \\\n",
       "0  6046168  05/18/2011 14:14:05       543315  09/17/2010 10:15:06   \n",
       "1  4873911  02/02/2011 11:30:10       465076  10/03/2010 09:30:58   \n",
       "2  3311559  07/22/2010 17:21:54       406143  07/22/2010 16:58:20   \n",
       "\n",
       "   ReputationAtPostCreation  OwnerUndeletedAnswerCountAtPostTime  \\\n",
       "0                         1                                    2   \n",
       "1                       192                                   24   \n",
       "2                         1                                    0   \n",
       "\n",
       "                                               Title  \\\n",
       "0  For Mongodb is it better to reference an objec...   \n",
       "1  How to insert schemalocation in a xml document...   \n",
       "2                            Too many lookup tables    \n",
       "\n",
       "                                        BodyMarkdown        Tag1  \\\n",
       "0  I am building a corpus of indexed sentences in...     mongodb   \n",
       "1  i create a xml document with JAXP and search a...         dom   \n",
       "2  What are the adverse effects of having too man...  sql-server   \n",
       "\n",
       "              Tag2   Tag3 Tag4 Tag5 PostClosedDate OpenStatus  \n",
       "0              NaN    NaN  NaN  NaN            NaN       open  \n",
       "1              xsd   jaxp  NaN  NaN            NaN       open  \n",
       "2  database-design  enums  NaN  NaN            NaN       open  "
      ]
     },
     "execution_count": 89,
     "metadata": {},
     "output_type": "execute_result"
    }
   ],
   "source": [
    "print(df.columns)\n",
    "df.head(3)"
   ]
  },
  {
   "cell_type": "markdown",
   "metadata": {},
   "source": [
    "### Features To Create/Encode\n",
    "From these columns, I consider important:\n",
    "- Title,\n",
    "- BodyMarkdown,\n",
    "- SelectedTags (top N tags, rest as \"other\"),\n",
    "- user life at creation (PostCreationDate - OwnerCreationDate)\n",
    "- OpenStatus\n",
    "\n",
    "I will create them in the next sections"
   ]
  },
  {
   "cell_type": "markdown",
   "metadata": {},
   "source": [
    "## Data processing"
   ]
  },
  {
   "cell_type": "markdown",
   "metadata": {},
   "source": [
    "### Statuses"
   ]
  },
  {
   "cell_type": "code",
   "execution_count": 90,
   "metadata": {},
   "outputs": [
    {
     "data": {
      "text/plain": [
       "array(['open', 'too localized', 'not a real question', 'off topic',\n",
       "       'not constructive'], dtype=object)"
      ]
     },
     "execution_count": 90,
     "metadata": {},
     "output_type": "execute_result"
    }
   ],
   "source": [
    "statuses = df['OpenStatus'].unique()\n",
    "statuses"
   ]
  },
  {
   "cell_type": "markdown",
   "metadata": {},
   "source": [
    "### Most Frequent Tags"
   ]
  },
  {
   "cell_type": "code",
   "execution_count": 91,
   "metadata": {},
   "outputs": [],
   "source": [
    "tag_column_names = ['Tag1', 'Tag2', 'Tag3', 'Tag4', 'Tag5']\n",
    "tags_long = list(df[tag_column_names].values.ravel('K'))\n",
    "\n",
    "tags_unique, frequencies = np.unique(tags_long, return_counts=True)\n",
    "freq_dict = {tags_unique[i]: frequencies[i] for i in range(len(tags_unique))}"
   ]
  },
  {
   "cell_type": "code",
   "execution_count": 92,
   "metadata": {},
   "outputs": [
    {
     "name": "stdout",
     "output_type": "stream",
     "text": [
      "there is 18309 unique tags, some of them (along with frequencies): [('nan', 316799), ('php', 13134), ('c#', 12076), ('java', 11870), ('javascript', 8925), ('android', 8502), ('jquery', 6835), ('c++', 6203), ('iphone', 5125), ('python', 4731)]\n"
     ]
    }
   ],
   "source": [
    "tags_freq_arr = sorted(freq_dict.items(), key=lambda kv: -1 * kv[1])\n",
    "\n",
    "print('there is {} unique tags, some of them (along with frequencies): {}'.format(len(tags_freq_arr), tags_freq_arr[:10]))"
   ]
  },
  {
   "cell_type": "markdown",
   "metadata": {},
   "source": [
    "As we can see, the most frequent value is 'nan' - we do not want to include it so it will be removed in the following cells.\n",
    "\n",
    "We will also select N the most frequently occuring tags and classify the rest as `other`"
   ]
  },
  {
   "cell_type": "code",
   "execution_count": 93,
   "metadata": {},
   "outputs": [],
   "source": [
    "N_tags = 500\n",
    "\n",
    "tags_freq_arr = tags_freq_arr[1:][:N_tags]\n",
    "\n",
    "selected_tags = np.empty(shape=N_tags, dtype=tags_unique.dtype)\n",
    "for i, item in enumerate(tags_freq_arr):\n",
    "  selected_tags[i] = item[0]"
   ]
  },
  {
   "cell_type": "markdown",
   "metadata": {},
   "source": [
    "### Selecting Best Features"
   ]
  },
  {
   "cell_type": "code",
   "execution_count": 94,
   "metadata": {},
   "outputs": [
    {
     "name": "stdout",
     "output_type": "stream",
     "text": [
      "Index(['PostId', 'PostCreationDate', 'OwnerUserId', 'OwnerCreationDate',\n",
      "       'ReputationAtPostCreation', 'OwnerUndeletedAnswerCountAtPostTime',\n",
      "       'Title', 'BodyMarkdown', 'Tag1', 'Tag2', 'Tag3', 'Tag4', 'Tag5',\n",
      "       'PostClosedDate', 'OpenStatus'],\n",
      "      dtype='object')\n"
     ]
    },
    {
     "data": {
      "text/html": [
       "<div>\n",
       "<style scoped>\n",
       "    .dataframe tbody tr th:only-of-type {\n",
       "        vertical-align: middle;\n",
       "    }\n",
       "\n",
       "    .dataframe tbody tr th {\n",
       "        vertical-align: top;\n",
       "    }\n",
       "\n",
       "    .dataframe thead th {\n",
       "        text-align: right;\n",
       "    }\n",
       "</style>\n",
       "<table border=\"1\" class=\"dataframe\">\n",
       "  <thead>\n",
       "    <tr style=\"text-align: right;\">\n",
       "      <th></th>\n",
       "      <th>PostId</th>\n",
       "      <th>PostCreationDate</th>\n",
       "      <th>OwnerUserId</th>\n",
       "      <th>OwnerCreationDate</th>\n",
       "      <th>ReputationAtPostCreation</th>\n",
       "      <th>OwnerUndeletedAnswerCountAtPostTime</th>\n",
       "      <th>Title</th>\n",
       "      <th>BodyMarkdown</th>\n",
       "      <th>Tag1</th>\n",
       "      <th>Tag2</th>\n",
       "      <th>Tag3</th>\n",
       "      <th>Tag4</th>\n",
       "      <th>Tag5</th>\n",
       "      <th>PostClosedDate</th>\n",
       "      <th>OpenStatus</th>\n",
       "    </tr>\n",
       "  </thead>\n",
       "  <tbody>\n",
       "    <tr>\n",
       "      <th>0</th>\n",
       "      <td>6046168</td>\n",
       "      <td>05/18/2011 14:14:05</td>\n",
       "      <td>543315</td>\n",
       "      <td>09/17/2010 10:15:06</td>\n",
       "      <td>1</td>\n",
       "      <td>2</td>\n",
       "      <td>For Mongodb is it better to reference an objec...</td>\n",
       "      <td>I am building a corpus of indexed sentences in...</td>\n",
       "      <td>mongodb</td>\n",
       "      <td>NaN</td>\n",
       "      <td>NaN</td>\n",
       "      <td>NaN</td>\n",
       "      <td>NaN</td>\n",
       "      <td>NaN</td>\n",
       "      <td>open</td>\n",
       "    </tr>\n",
       "    <tr>\n",
       "      <th>1</th>\n",
       "      <td>4873911</td>\n",
       "      <td>02/02/2011 11:30:10</td>\n",
       "      <td>465076</td>\n",
       "      <td>10/03/2010 09:30:58</td>\n",
       "      <td>192</td>\n",
       "      <td>24</td>\n",
       "      <td>How to insert schemalocation in a xml document...</td>\n",
       "      <td>i create a xml document with JAXP and search a...</td>\n",
       "      <td>dom</td>\n",
       "      <td>xsd</td>\n",
       "      <td>jaxp</td>\n",
       "      <td>NaN</td>\n",
       "      <td>NaN</td>\n",
       "      <td>NaN</td>\n",
       "      <td>open</td>\n",
       "    </tr>\n",
       "    <tr>\n",
       "      <th>2</th>\n",
       "      <td>3311559</td>\n",
       "      <td>07/22/2010 17:21:54</td>\n",
       "      <td>406143</td>\n",
       "      <td>07/22/2010 16:58:20</td>\n",
       "      <td>1</td>\n",
       "      <td>0</td>\n",
       "      <td>Too many lookup tables</td>\n",
       "      <td>What are the adverse effects of having too man...</td>\n",
       "      <td>sql-server</td>\n",
       "      <td>database-design</td>\n",
       "      <td>enums</td>\n",
       "      <td>NaN</td>\n",
       "      <td>NaN</td>\n",
       "      <td>NaN</td>\n",
       "      <td>open</td>\n",
       "    </tr>\n",
       "  </tbody>\n",
       "</table>\n",
       "</div>"
      ],
      "text/plain": [
       "    PostId     PostCreationDate  OwnerUserId    OwnerCreationDate  \\\n",
       "0  6046168  05/18/2011 14:14:05       543315  09/17/2010 10:15:06   \n",
       "1  4873911  02/02/2011 11:30:10       465076  10/03/2010 09:30:58   \n",
       "2  3311559  07/22/2010 17:21:54       406143  07/22/2010 16:58:20   \n",
       "\n",
       "   ReputationAtPostCreation  OwnerUndeletedAnswerCountAtPostTime  \\\n",
       "0                         1                                    2   \n",
       "1                       192                                   24   \n",
       "2                         1                                    0   \n",
       "\n",
       "                                               Title  \\\n",
       "0  For Mongodb is it better to reference an objec...   \n",
       "1  How to insert schemalocation in a xml document...   \n",
       "2                            Too many lookup tables    \n",
       "\n",
       "                                        BodyMarkdown        Tag1  \\\n",
       "0  I am building a corpus of indexed sentences in...     mongodb   \n",
       "1  i create a xml document with JAXP and search a...         dom   \n",
       "2  What are the adverse effects of having too man...  sql-server   \n",
       "\n",
       "              Tag2   Tag3 Tag4 Tag5 PostClosedDate OpenStatus  \n",
       "0              NaN    NaN  NaN  NaN            NaN       open  \n",
       "1              xsd   jaxp  NaN  NaN            NaN       open  \n",
       "2  database-design  enums  NaN  NaN            NaN       open  "
      ]
     },
     "execution_count": 94,
     "metadata": {},
     "output_type": "execute_result"
    }
   ],
   "source": [
    "print(df.columns)\n",
    "df.head(3)"
   ]
  },
  {
   "cell_type": "markdown",
   "metadata": {},
   "source": [
    "## Data processing"
   ]
  },
  {
   "cell_type": "markdown",
   "metadata": {},
   "source": [
    "### Most Frequent Tags"
   ]
  },
  {
   "cell_type": "code",
   "execution_count": 117,
   "metadata": {},
   "outputs": [
    {
     "name": "stdout",
     "output_type": "stream",
     "text": [
      "['javascript' 'android' 'jquery' 'c++' 'iphone' 'python' 'html' 'asp.net'\n",
      " 'mysql' '.net' 'c' 'css' 'sql' 'ios' 'objective-c' 'linux'\n",
      " 'ruby-on-rails' 'database' 'ruby' 'windows' 'facebook' 'ajax' 'xml'\n",
      " 'xcode' 'sql-server' 'wpf' 'algorithm' 'regex' 'django' 'arrays'\n",
      " 'asp.net-mvc' 'eclipse' 'html5' 'wordpress' 'osx' 'vb.net' 'performance'\n",
      " 'web-services' 'image' 'apache' 'security' 'json' 'string'\n",
      " 'visual-studio-2010' 'perl' 'ruby-on-rails-3' 'books' 'asp.net-mvc-3'\n",
      " 'ubuntu' 'php5' 'ipad' 'multithreading' 'mvc' 'api' 'winforms' 'oop'\n",
      " 'visual-studio' 'forms' 'flash' 'application' 'sql-server-2008' 'wcf'\n",
      " 'oracle' 'google' 'silverlight' 'math' 'design' 'linq' 'git' 'networking'\n",
      " 'homework' 'cocoa' 'bash' 'programming-languages' 'email' 'spring'\n",
      " 'query' 'file' 'r' 'unix' 'excel' 'actionscript-3' 'flex' 'delphi'\n",
      " 'codeigniter' 'frameworks' 'class' 'windows-phone-7' 'qt'\n",
      " 'design-patterns' 'hibernate' 'open-source' 'function' '.htaccess'\n",
      " 'web-applications' 'java-ee' 'sharepoint' 'google-app-engine' 'magento'\n",
      " 'svn' 'matlab' 'jquery-ui' 'parsing' 'shell' 'internet-explorer'\n",
      " 'testing' 'drupal' 'gui' 'website' 'sqlite' 'c#-4.0' 'web' 'architecture'\n",
      " 'list' 'jsp' 'node.js' 'opengl' 'debugging' 'http' 'cocoa-touch'\n",
      " 'entity-framework' 'mobile' 'swing' 'search' 'unit-testing'\n",
      " 'zend-framework' 'sockets' 'ios5' 'firefox' 'facebook-graph-api' 'ide'\n",
      " 'interview-questions' 'sql-server-2005' 'pdf' 'url' 'video' 'postgresql'\n",
      " 'rest' 'career-development' 'google-maps' 'mongodb' 'scala' 'validation'\n",
      " 'css3' 'visual-c++' 'database-design' 'table' 'content-management-system'\n",
      " 'google-chrome' 'nhibernate' 'templates' 'tsql' 'browser' 'optimization'\n",
      " 'language-agnostic' 'cakephp' 'tomcat' 'assembly' 'encryption' 'iis'\n",
      " 'visual-studio-2008' 'android-layout' 'winapi' 'blackberry' 'events'\n",
      " 'iphone-sdk-4.0' 'coding-style' 'user-interface' 'seo' 'plugins'\n",
      " 'variables' 'image-processing' 'jsf' 'ssh' 'graphics' 'pointers' 'gwt'\n",
      " 'windows-7' 'memory' 'text' 'data' 'jquery-ajax' 'authentication' 'date'\n",
      " 'operating-system' 'exception' 'script' 'audio' 'uitableview' 'compiler'\n",
      " 'object' 'sorting' 'grails' 'vim' 'loops' 'generics' 'data-structures'\n",
      " 'haskell' 'twitter' 'joomla' 'session' 'ssl' 'button' 'div' 'latex'\n",
      " 'hosting' 'licensing' 'netbeans' 'listview' 'caching' 'vba' 'xslt' 'post'\n",
      " 'redirect' 'apple' 'animation' 'dom' 'servlets' 'opencv' 'xaml'\n",
      " 'phonegap' 'login' 'gcc' 'jquery-plugins' 'logging' 'inheritance' 'graph'\n",
      " 'datetime' 'layout' 'select' 'command-line' 'version-control'\n",
      " 'sharepoint2010' 'syntax' 'service' 'linq-to-sql' 'mod-rewrite'\n",
      " 'core-data' 'microsoft' 'deployment' 'extjs' 'soap' 'maven'\n",
      " 'project-management' 'sdk' 'scripting' 'memory-management' 'file-upload'\n",
      " 'jquery-mobile' 'dynamic' 'curl' 'ms-access' 'powershell' 'xcode4' '3d'\n",
      " 'app-store' 'paypal' 'random' 'dll' 'cookies' 'iframe' 'asp.net-mvc-2'\n",
      " 'if-statement' 'e-commerce' 'server' 'serialization' 'ftp' 'embedded'\n",
      " 'stored-procedures' 'printing' 'vb' 'documentation' 'iis7' 'interface'\n",
      " 'mvvm' 'update' 'boost' 'canvas' 'java-me' 'emacs' 'methods' 'editor'\n",
      " 'upload' 'jpa' 'software-engineering' 'tutorials' 'tcp' 'time'\n",
      " 'javascript-events' 'cloud' 'ios4' 'join' 'orm' 'csv' 'language'\n",
      " 'amazon-ec2' 'data-binding' 'recursion' 'spring-mvc' 'activerecord'\n",
      " 'for-loop' 'view' 'jdbc' 'dns' 'gridview' 'hardware' 'proxy'\n",
      " 'self-improvement' 'youtube' 'download' 'xhtml' 'domain' 'build'\n",
      " 'symfony' 'f#' 'https' 'ip' 'razor' 'actionscript' 'google-maps-api-3'\n",
      " 'nginx' 'project' 'statistics' 'fonts' 'github' 'azure' 'asp'\n",
      " 'computer-science' 'reflection' 'xna' 'activity' 'input' 'types' 'user'\n",
      " 'android-intent' 'configuration' 'groovy' 'oauth' 'hash' 'unicode'\n",
      " 'android-emulator' 'blogs' 'concurrency' 'menu' 'phpmyadmin'\n",
      " 'asynchronous' 'error-message' 'entity-framework-4'\n",
      " 'functional-programming' 'hadoop' 'jsf-2.0' 'map' 'xpath' 'collections'\n",
      " 'drop-down-menu' 'terminal' 'file-io' 'heroku' 'clojure' 'process'\n",
      " 'centos' 'cryptography' 'encoding' 'gmail' 'mercurial' 'reference'\n",
      " 'safari' 'permissions' 'backbone.js' 'network-programming' 'usb' 'vector'\n",
      " '.net-4.0' 'ado.net' 'batch' 'binding' 'debian' 'internet' 'passwords'\n",
      " 'resources' 'selenium' 'excel-vba' 'vb6' 'ant' 'asp-classic' 'nosql'\n",
      " 'symfony-2.0' 'windows-xp' 'drupal-7' 'filesystems'\n",
      " 'artificial-intelligence' 'coldfusion' 'django-models' 'installation'\n",
      " 'rss' 'delete' 'dictionary' 'jboss' 'matrix' 'sms' 'stl' 'macros'\n",
      " 'parallel-processing' 'tfs' 'mfc' 'static' 'air' 'colors'\n",
      " 'ruby-on-rails-3.1' 'silverlight-4.0' 'webserver' 'android-widget'\n",
      " 'module' 'properties' 'uiview' 'url-rewriting' 'amazon-web-services'\n",
      " 'import' 'compilation' 'linux-kernel' 'ffmpeg' 'filter' 'keyboard'\n",
      " 'machine-learning' 'memory-leaks' 'photoshop' 'playframework'\n",
      " 'comparison' 'io' 'utf-8' 'datagrid' 'internet-explorer-8'\n",
      " 'reporting-services' 'struts2' 'charts' 'opengl-es' 'uitableviewcell'\n",
      " 'apache2' 'com' 'multidimensional-array' 'numbers' 'gps' 'tree'\n",
      " 'calendar' 'constructor' 'eclipse-plugin' 'osx-lion' 'replace'\n",
      " 'wordpress-plugin' 'binary' 'crash' 'cron' 'cuda' 'naming-conventions'\n",
      " 'autocomplete' 'hyperlink' 'visual' 'smtp' 'tabs' 'automation'\n",
      " 'bluetooth' 'cocos2d-iphone' 'insert' 'installer' 'lisp' 'model'\n",
      " 'comments' 'mono' 'web-hosting' 'camera' 'tags' 'transactions' 'business'\n",
      " 'chat' 'connection' 'logic' 'namespaces' 'navigation' 'header' 'install'\n",
      " 'localization' 'search-engine' 'kernel' 'struct' 'cross-browser' 'page'\n",
      " '.net-3.5' 'adobe' 'dependency-injection' 'float' 'free' 'get' 'include'\n",
      " 'source-code' 'amazon-s3' 'cocos2d' 'console' '' '' '']\n"
     ]
    }
   ],
   "source": [
    "N_tags = 500\n",
    "\n",
    "tags_freq_arr = tags_freq_arr[1:][:N_tags]\n",
    "\n",
    "selected_tags = np.empty(shape=N_tags, dtype=tags_unique.dtype)\n",
    "for i, item in enumerate(tags_freq_arr):\n",
    "  selected_tags[i] = item[0]"
   ]
  },
  {
   "cell_type": "markdown",
   "metadata": {},
   "source": [
    "### Days Since Account Creation Till Posting Question"
   ]
  },
  {
   "cell_type": "code",
   "execution_count": 96,
   "metadata": {},
   "outputs": [],
   "source": [
    "df['OwnerCreationDate'] = pd.to_datetime(df['OwnerCreationDate'], format='mixed')\n",
    "df['PostCreationDate'] = pd.to_datetime(df['PostCreationDate'], format='mixed')"
   ]
  },
  {
   "cell_type": "code",
   "execution_count": 97,
   "metadata": {},
   "outputs": [],
   "source": [
    "df['DaysTillPosting'] = (df['PostCreationDate'] - df['OwnerCreationDate']).dt.days"
   ]
  },
  {
   "cell_type": "markdown",
   "metadata": {},
   "source": [
    "### Processing Tags"
   ]
  },
  {
   "cell_type": "code",
   "execution_count": 98,
   "metadata": {},
   "outputs": [],
   "source": [
    "def getRecognizedTags(row):\n",
    "  \n",
    "  res = row[tag_column_names]\n",
    "  \n",
    "  for column_name in tag_column_names:\n",
    "    tag = row[column_name]\n",
    "    if tag != np.nan:\n",
    "      indexes = np.where(selected_tags == tag)[0]\n",
    "      \n",
    "      if len(indexes == 1):\n",
    "        res[column_name] = indexes[0]\n",
    "      else:\n",
    "        res[column_name] = np.nan\n",
    "  \n",
    "  return res\n",
    "\n",
    "def getUnrecognizedTags(row):\n",
    "  unrecognized_tags = 0\n",
    "  \n",
    "  for tag in row[tag_column_names].values:\n",
    "    if(~np.isin(tag, selected_tags)):\n",
    "      unrecognized_tags += 1\n",
    "  \n",
    "  return unrecognized_tags"
   ]
  },
  {
   "cell_type": "code",
   "execution_count": 99,
   "metadata": {},
   "outputs": [
    {
     "data": {
      "text/html": [
       "<div>\n",
       "<style scoped>\n",
       "    .dataframe tbody tr th:only-of-type {\n",
       "        vertical-align: middle;\n",
       "    }\n",
       "\n",
       "    .dataframe tbody tr th {\n",
       "        vertical-align: top;\n",
       "    }\n",
       "\n",
       "    .dataframe thead th {\n",
       "        text-align: right;\n",
       "    }\n",
       "</style>\n",
       "<table border=\"1\" class=\"dataframe\">\n",
       "  <thead>\n",
       "    <tr style=\"text-align: right;\">\n",
       "      <th></th>\n",
       "      <th>PostId</th>\n",
       "      <th>PostCreationDate</th>\n",
       "      <th>OwnerUserId</th>\n",
       "      <th>OwnerCreationDate</th>\n",
       "      <th>ReputationAtPostCreation</th>\n",
       "      <th>OwnerUndeletedAnswerCountAtPostTime</th>\n",
       "      <th>Title</th>\n",
       "      <th>BodyMarkdown</th>\n",
       "      <th>Tag1</th>\n",
       "      <th>Tag2</th>\n",
       "      <th>Tag3</th>\n",
       "      <th>Tag4</th>\n",
       "      <th>Tag5</th>\n",
       "      <th>PostClosedDate</th>\n",
       "      <th>OpenStatus</th>\n",
       "      <th>DaysTillPosting</th>\n",
       "    </tr>\n",
       "  </thead>\n",
       "  <tbody>\n",
       "    <tr>\n",
       "      <th>0</th>\n",
       "      <td>6046168</td>\n",
       "      <td>2011-05-18 14:14:05</td>\n",
       "      <td>543315</td>\n",
       "      <td>2010-09-17 10:15:06</td>\n",
       "      <td>1</td>\n",
       "      <td>2</td>\n",
       "      <td>For Mongodb is it better to reference an objec...</td>\n",
       "      <td>I am building a corpus of indexed sentences in...</td>\n",
       "      <td>mongodb</td>\n",
       "      <td>NaN</td>\n",
       "      <td>NaN</td>\n",
       "      <td>NaN</td>\n",
       "      <td>NaN</td>\n",
       "      <td>NaN</td>\n",
       "      <td>open</td>\n",
       "      <td>243</td>\n",
       "    </tr>\n",
       "    <tr>\n",
       "      <th>1</th>\n",
       "      <td>4873911</td>\n",
       "      <td>2011-02-02 11:30:10</td>\n",
       "      <td>465076</td>\n",
       "      <td>2010-10-03 09:30:58</td>\n",
       "      <td>192</td>\n",
       "      <td>24</td>\n",
       "      <td>How to insert schemalocation in a xml document...</td>\n",
       "      <td>i create a xml document with JAXP and search a...</td>\n",
       "      <td>dom</td>\n",
       "      <td>xsd</td>\n",
       "      <td>jaxp</td>\n",
       "      <td>NaN</td>\n",
       "      <td>NaN</td>\n",
       "      <td>NaN</td>\n",
       "      <td>open</td>\n",
       "      <td>122</td>\n",
       "    </tr>\n",
       "  </tbody>\n",
       "</table>\n",
       "</div>"
      ],
      "text/plain": [
       "    PostId    PostCreationDate  OwnerUserId   OwnerCreationDate  \\\n",
       "0  6046168 2011-05-18 14:14:05       543315 2010-09-17 10:15:06   \n",
       "1  4873911 2011-02-02 11:30:10       465076 2010-10-03 09:30:58   \n",
       "\n",
       "   ReputationAtPostCreation  OwnerUndeletedAnswerCountAtPostTime  \\\n",
       "0                         1                                    2   \n",
       "1                       192                                   24   \n",
       "\n",
       "                                               Title  \\\n",
       "0  For Mongodb is it better to reference an objec...   \n",
       "1  How to insert schemalocation in a xml document...   \n",
       "\n",
       "                                        BodyMarkdown     Tag1 Tag2  Tag3 Tag4  \\\n",
       "0  I am building a corpus of indexed sentences in...  mongodb  NaN   NaN  NaN   \n",
       "1  i create a xml document with JAXP and search a...      dom  xsd  jaxp  NaN   \n",
       "\n",
       "  Tag5 PostClosedDate OpenStatus  DaysTillPosting  \n",
       "0  NaN            NaN       open              243  \n",
       "1  NaN            NaN       open              122  "
      ]
     },
     "execution_count": 99,
     "metadata": {},
     "output_type": "execute_result"
    }
   ],
   "source": [
    "df[:2]"
   ]
  },
  {
   "cell_type": "code",
   "execution_count": 100,
   "metadata": {},
   "outputs": [],
   "source": [
    "df[tag_column_names] = df.apply(getRecognizedTags, axis=1)\n",
    "df[\"UnrecognizedTags\"] = df.apply(getUnrecognizedTags, axis=1)"
   ]
  },
  {
   "cell_type": "markdown",
   "metadata": {},
   "source": [
    "### Picking important columns"
   ]
  },
  {
   "cell_type": "code",
   "execution_count": 101,
   "metadata": {},
   "outputs": [],
   "source": [
    "# important_columns = ['ReputationAtPostCreation', 'OwnerUndeletedAnswerCountAtPostTime', 'Title', 'BodyMarkdown', 'DaysTillPosting', 'RecognizedTags', 'UnrecognizedTags', 'OpenStatus']\n",
    "important_columns = ['ReputationAtPostCreation', 'OwnerUndeletedAnswerCountAtPostTime', 'Title', 'BodyMarkdown', 'DaysTillPosting', 'UnrecognizedTags', 'OpenStatus', 'Tag1', 'Tag2', 'Tag3', 'Tag4', 'Tag5']\n",
    "df_final = df[important_columns]"
   ]
  },
  {
   "cell_type": "code",
   "execution_count": 102,
   "metadata": {},
   "outputs": [
    {
     "data": {
      "text/html": [
       "<div>\n",
       "<style scoped>\n",
       "    .dataframe tbody tr th:only-of-type {\n",
       "        vertical-align: middle;\n",
       "    }\n",
       "\n",
       "    .dataframe tbody tr th {\n",
       "        vertical-align: top;\n",
       "    }\n",
       "\n",
       "    .dataframe thead th {\n",
       "        text-align: right;\n",
       "    }\n",
       "</style>\n",
       "<table border=\"1\" class=\"dataframe\">\n",
       "  <thead>\n",
       "    <tr style=\"text-align: right;\">\n",
       "      <th></th>\n",
       "      <th>ReputationAtPostCreation</th>\n",
       "      <th>OwnerUndeletedAnswerCountAtPostTime</th>\n",
       "      <th>Title</th>\n",
       "      <th>BodyMarkdown</th>\n",
       "      <th>DaysTillPosting</th>\n",
       "      <th>UnrecognizedTags</th>\n",
       "      <th>OpenStatus</th>\n",
       "      <th>Tag1</th>\n",
       "      <th>Tag2</th>\n",
       "      <th>Tag3</th>\n",
       "      <th>Tag4</th>\n",
       "      <th>Tag5</th>\n",
       "    </tr>\n",
       "  </thead>\n",
       "  <tbody>\n",
       "    <tr>\n",
       "      <th>0</th>\n",
       "      <td>1</td>\n",
       "      <td>2</td>\n",
       "      <td>For Mongodb is it better to reference an objec...</td>\n",
       "      <td>I am building a corpus of indexed sentences in...</td>\n",
       "      <td>243</td>\n",
       "      <td>5</td>\n",
       "      <td>open</td>\n",
       "      <td>142.0</td>\n",
       "      <td>NaN</td>\n",
       "      <td>NaN</td>\n",
       "      <td>NaN</td>\n",
       "      <td>NaN</td>\n",
       "    </tr>\n",
       "    <tr>\n",
       "      <th>1</th>\n",
       "      <td>192</td>\n",
       "      <td>24</td>\n",
       "      <td>How to insert schemalocation in a xml document...</td>\n",
       "      <td>i create a xml document with JAXP and search a...</td>\n",
       "      <td>122</td>\n",
       "      <td>5</td>\n",
       "      <td>open</td>\n",
       "      <td>218.0</td>\n",
       "      <td>NaN</td>\n",
       "      <td>NaN</td>\n",
       "      <td>NaN</td>\n",
       "      <td>NaN</td>\n",
       "    </tr>\n",
       "    <tr>\n",
       "      <th>2</th>\n",
       "      <td>1</td>\n",
       "      <td>0</td>\n",
       "      <td>Too many lookup tables</td>\n",
       "      <td>What are the adverse effects of having too man...</td>\n",
       "      <td>0</td>\n",
       "      <td>5</td>\n",
       "      <td>open</td>\n",
       "      <td>26.0</td>\n",
       "      <td>147.0</td>\n",
       "      <td>NaN</td>\n",
       "      <td>NaN</td>\n",
       "      <td>NaN</td>\n",
       "    </tr>\n",
       "    <tr>\n",
       "      <th>3</th>\n",
       "      <td>4</td>\n",
       "      <td>1</td>\n",
       "      <td>What is this PHP code in VB.net</td>\n",
       "      <td>I am looking for the vb.net equivalent of this...</td>\n",
       "      <td>258</td>\n",
       "      <td>5</td>\n",
       "      <td>too localized</td>\n",
       "      <td>NaN</td>\n",
       "      <td>37.0</td>\n",
       "      <td>NaN</td>\n",
       "      <td>NaN</td>\n",
       "      <td>NaN</td>\n",
       "    </tr>\n",
       "    <tr>\n",
       "      <th>4</th>\n",
       "      <td>334</td>\n",
       "      <td>14</td>\n",
       "      <td>Spring-Data mongodb querying multiple classes ...</td>\n",
       "      <td>With Spring-Data, you can use the @Document an...</td>\n",
       "      <td>453</td>\n",
       "      <td>5</td>\n",
       "      <td>open</td>\n",
       "      <td>142.0</td>\n",
       "      <td>NaN</td>\n",
       "      <td>NaN</td>\n",
       "      <td>NaN</td>\n",
       "      <td>NaN</td>\n",
       "    </tr>\n",
       "  </tbody>\n",
       "</table>\n",
       "</div>"
      ],
      "text/plain": [
       "   ReputationAtPostCreation  OwnerUndeletedAnswerCountAtPostTime  \\\n",
       "0                         1                                    2   \n",
       "1                       192                                   24   \n",
       "2                         1                                    0   \n",
       "3                         4                                    1   \n",
       "4                       334                                   14   \n",
       "\n",
       "                                               Title  \\\n",
       "0  For Mongodb is it better to reference an objec...   \n",
       "1  How to insert schemalocation in a xml document...   \n",
       "2                            Too many lookup tables    \n",
       "3                    What is this PHP code in VB.net   \n",
       "4  Spring-Data mongodb querying multiple classes ...   \n",
       "\n",
       "                                        BodyMarkdown  DaysTillPosting  \\\n",
       "0  I am building a corpus of indexed sentences in...              243   \n",
       "1  i create a xml document with JAXP and search a...              122   \n",
       "2  What are the adverse effects of having too man...                0   \n",
       "3  I am looking for the vb.net equivalent of this...              258   \n",
       "4  With Spring-Data, you can use the @Document an...              453   \n",
       "\n",
       "   UnrecognizedTags     OpenStatus   Tag1   Tag2  Tag3  Tag4  Tag5  \n",
       "0                 5           open  142.0    NaN   NaN   NaN   NaN  \n",
       "1                 5           open  218.0    NaN   NaN   NaN   NaN  \n",
       "2                 5           open   26.0  147.0   NaN   NaN   NaN  \n",
       "3                 5  too localized    NaN   37.0   NaN   NaN   NaN  \n",
       "4                 5           open  142.0    NaN   NaN   NaN   NaN  "
      ]
     },
     "execution_count": 102,
     "metadata": {},
     "output_type": "execute_result"
    }
   ],
   "source": [
    "df_final.head(5)"
   ]
  },
  {
   "cell_type": "markdown",
   "metadata": {},
   "source": [
    "### Saving Processed Data"
   ]
  },
  {
   "cell_type": "code",
   "execution_count": 115,
   "metadata": {},
   "outputs": [],
   "source": [
    "df_final.to_csv('../data/processed/train_sample_processed.csv')\n",
    "\n",
    "# Save the array to a binary file\n",
    "np.save('../data/processed/selected_tags.npy', selected_tags)"
   ]
  }
 ],
 "metadata": {
  "kernelspec": {
   "display_name": "env_torch",
   "language": "python",
   "name": "python3"
  },
  "language_info": {
   "codemirror_mode": {
    "name": "ipython",
    "version": 3
   },
   "file_extension": ".py",
   "mimetype": "text/x-python",
   "name": "python",
   "nbconvert_exporter": "python",
   "pygments_lexer": "ipython3",
   "version": "3.10.13"
  }
 },
 "nbformat": 4,
 "nbformat_minor": 2
}
