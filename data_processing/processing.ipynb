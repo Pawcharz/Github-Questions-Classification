{
 "cells": [
  {
   "cell_type": "markdown",
   "metadata": {},
   "source": [
    "### Importing Libraries"
   ]
  },
  {
   "cell_type": "code",
   "execution_count": null,
   "metadata": {},
   "outputs": [],
   "source": [
    "import pandas as pd\n",
    "import numpy as np"
   ]
  },
  {
   "cell_type": "markdown",
   "metadata": {},
   "source": [
    "## Loading and Analysing Dataframe"
   ]
  },
  {
   "cell_type": "code",
   "execution_count": null,
   "metadata": {},
   "outputs": [],
   "source": [
    "df = pd.read_csv('../data/train-sample.csv')"
   ]
  },
  {
   "cell_type": "code",
   "execution_count": null,
   "metadata": {},
   "outputs": [],
   "source": [
    "print(df.columns)\n",
    "df.head(3)"
   ]
  },
  {
   "cell_type": "markdown",
   "metadata": {},
   "source": [
    "### Features To Create/Encode\n",
    "From these columns, I consider important:\n",
    "- Title,\n",
    "- BodyMarkdown,\n",
    "- SelectedTags (top N tags, rest as \"other\"),\n",
    "- user life at creation (PostCreationDate - OwnerCreationDate)\n",
    "- OpenStatus\n",
    "\n",
    "I will create them in the next sections"
   ]
  },
  {
   "cell_type": "markdown",
   "metadata": {},
   "source": [
    "## Data processing"
   ]
  },
  {
   "cell_type": "markdown",
   "metadata": {},
   "source": [
    "### Statuses"
   ]
  },
  {
   "cell_type": "code",
   "execution_count": null,
   "metadata": {},
   "outputs": [],
   "source": [
    "statuses = df['OpenStatus'].unique()\n",
    "statuses"
   ]
  },
  {
   "cell_type": "markdown",
   "metadata": {},
   "source": [
    "### Most Frequent Tags"
   ]
  },
  {
   "cell_type": "code",
   "execution_count": null,
   "metadata": {},
   "outputs": [],
   "source": [
    "tag_column_names = ['Tag1', 'Tag2', 'Tag3', 'Tag4', 'Tag5']\n",
    "tags_long = list(df[tag_column_names].values.ravel('K'))\n",
    "\n",
    "tags_unique, frequencies = np.unique(tags_long, return_counts=True)\n",
    "freq_dict = {tags_unique[i]: frequencies[i] for i in range(len(tags_unique))}"
   ]
  },
  {
   "cell_type": "code",
   "execution_count": null,
   "metadata": {},
   "outputs": [],
   "source": [
    "tags_freq_arr = sorted(freq_dict.items(), key=lambda kv: -1 * kv[1])\n",
    "\n",
    "print('there is {} unique tags, some of them (along with frequencies): {}'.format(len(tags_freq_arr), tags_freq_arr[:10]))"
   ]
  },
  {
   "cell_type": "markdown",
   "metadata": {},
   "source": [
    "As we can see, the most frequent value is 'nan' - we do not want to include it so it will be removed in the following cells.\n",
    "\n",
    "We will also select N the most frequently occuring tags and classify the rest as `other`"
   ]
  },
  {
   "cell_type": "code",
   "execution_count": null,
   "metadata": {},
   "outputs": [],
   "source": [
    "N_tags = 500\n",
    "\n",
    "tags_freq_arr = tags_freq_arr[1:][:N_tags]\n",
    "\n",
    "selected_tags = np.empty(shape=N_tags, dtype=tags_unique.dtype)\n",
    "for i, item in enumerate(tags_freq_arr):\n",
    "  selected_tags[i] = item[0]"
   ]
  },
  {
   "cell_type": "markdown",
   "metadata": {},
   "source": [
    "### Selecting Best Features"
   ]
  },
  {
   "cell_type": "code",
   "execution_count": null,
   "metadata": {},
   "outputs": [],
   "source": [
    "print(df.columns)\n",
    "df.head(3)"
   ]
  },
  {
   "cell_type": "code",
   "execution_count": null,
   "metadata": {},
   "outputs": [],
   "source": [
    "df['DaysTillPosting'] = (df['PostCreationDate'] - df['OwnerCreationDate']).dt.days"
   ]
  },
  {
   "cell_type": "code",
   "execution_count": null,
   "metadata": {},
   "outputs": [],
   "source": [
    "print(df.columns)\n",
    "df.head(3)"
   ]
  },
  {
   "cell_type": "markdown",
   "metadata": {},
   "source": [
    "## Data processing"
   ]
  },
  {
   "cell_type": "markdown",
   "metadata": {},
   "source": [
    "### Most Frequent Tags"
   ]
  },
  {
   "cell_type": "code",
   "execution_count": null,
   "metadata": {},
   "outputs": [],
   "source": [
    "N_tags = 500\n",
    "\n",
    "tags_freq_arr = tags_freq_arr[1:][:N_tags]\n",
    "\n",
    "selected_tags = np.empty(shape=N_tags, dtype=tags_unique.dtype)\n",
    "for i, item in enumerate(tags_freq_arr):\n",
    "  selected_tags[i] = item[0]"
   ]
  },
  {
   "cell_type": "markdown",
   "metadata": {},
   "source": [
    "### Days Since Account Creation Till Posting Question"
   ]
  },
  {
   "cell_type": "code",
   "execution_count": null,
   "metadata": {},
   "outputs": [],
   "source": [
    "df['OwnerCreationDate'] = pd.to_datetime(df['OwnerCreationDate'], format='mixed')\n",
    "df['PostCreationDate'] = pd.to_datetime(df['PostCreationDate'], format='mixed')"
   ]
  },
  {
   "cell_type": "code",
   "execution_count": null,
   "metadata": {},
   "outputs": [],
   "source": [
    "df['DaysTillPosting'] = (df['PostCreationDate'] - df['OwnerCreationDate']).dt.days"
   ]
  },
  {
   "cell_type": "markdown",
   "metadata": {},
   "source": [
    "### Processing Tags"
   ]
  },
  {
   "cell_type": "code",
   "execution_count": null,
   "metadata": {},
   "outputs": [],
   "source": [
    "def getRecognizedTags(row):\n",
    "  recognized_tags = []\n",
    "  \n",
    "  for tag in row[tag_column_names].values:\n",
    "    if(np.isin(tag, selected_tags)):\n",
    "      recognized_tags.append(tag)\n",
    "  \n",
    "  return recognized_tags\n",
    "\n",
    "def getUnrecognizedTags(row):\n",
    "  unrecognized_tags = 0\n",
    "  \n",
    "  for tag in row[tag_column_names].values:\n",
    "    if(~np.isin(tag, selected_tags)):\n",
    "      unrecognized_tags += 1\n",
    "  \n",
    "  return unrecognized_tags"
   ]
  },
  {
   "cell_type": "code",
   "execution_count": null,
   "metadata": {},
   "outputs": [],
   "source": [
    "df[\"RecognizedTags\"] = df[:1000].apply(getRecognizedTags, axis=1)\n",
    "df[\"UnrecognizedTags\"] = df[:1000].apply(getUnrecognizedTags, axis=1)\n",
    "\n",
    "# REMOVE [:1000] !!!"
   ]
  }
 ],
 "metadata": {
  "kernelspec": {
   "display_name": "env_torch",
   "language": "python",
   "name": "python3"
  },
  "language_info": {
   "codemirror_mode": {
    "name": "ipython",
    "version": 3
   },
   "file_extension": ".py",
   "mimetype": "text/x-python",
   "name": "python",
   "nbconvert_exporter": "python",
   "pygments_lexer": "ipython3",
   "version": "3.10.13"
  }
 },
 "nbformat": 4,
 "nbformat_minor": 2
}
